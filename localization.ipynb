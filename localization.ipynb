{
 "cells": [
  {
   "cell_type": "markdown",
   "metadata": {},
   "source": [
    "dataset adress : https:www.kaggle.com/datasets/saurabhshahane/mnist-for-object-detection                   (https://www.kaggle.com/datasets/saurabhshahane/mnist-for-object-detection)"
   ]
  },
  {
   "cell_type": "code",
   "execution_count": 77,
   "metadata": {},
   "outputs": [],
   "source": [
    "import torch \n",
    "import torch.nn as nn\n",
    "import torch.optim as optim \n",
    "import torchvision.datasets as dataset\n",
    "import torchvision.transforms as transforms\n",
    "import matplotlib.pyplot as plt\n",
    "import torch.nn.functional as f\n",
    "from torch.utils.data import DataLoader,Dataset\n",
    "from torchvision.transforms import ToTensor\n",
    "import glob as glob\n",
    "from PIL import Image\n",
    "import pandas as pd \n",
    "import torchvision.models as models"
   ]
  },
  {
   "cell_type": "code",
   "execution_count": 56,
   "metadata": {},
   "outputs": [],
   "source": [
    "path='C:/Users/Amir/Desktop/mnist object localization/mnist_detection/'\n",
    "train_image_list=glob.glob(path+'train/images/*.*')\n",
    "train_label_list= glob.glob(path+'train/labels/*.*')\n",
    "test_image_list=glob.glob(path+'test/images/*.*')\n",
    "test_label_list= glob.glob(path+'test/labels/*.*')\n"
   ]
  },
  {
   "cell_type": "code",
   "execution_count": 57,
   "metadata": {},
   "outputs": [
    {
     "name": "stdout",
     "output_type": "stream",
     "text": [
      "10000\n",
      "10000\n",
      "1000\n",
      "1000\n"
     ]
    }
   ],
   "source": [
    "print(len(train_image_list))\n",
    "print(len(train_label_list))\n",
    "print(len(test_image_list))\n",
    "print(len(test_label_list))"
   ]
  },
  {
   "cell_type": "code",
   "execution_count": 58,
   "metadata": {},
   "outputs": [
    {
     "data": {
      "text/plain": [
       "['C:/Users/Amir/Desktop/mnist object localization/mnist_detection/train/images\\\\0.png',\n",
       " 'C:/Users/Amir/Desktop/mnist object localization/mnist_detection/train/images\\\\1.png',\n",
       " 'C:/Users/Amir/Desktop/mnist object localization/mnist_detection/train/images\\\\10.png',\n",
       " 'C:/Users/Amir/Desktop/mnist object localization/mnist_detection/train/images\\\\100.png',\n",
       " 'C:/Users/Amir/Desktop/mnist object localization/mnist_detection/train/images\\\\1000.png',\n",
       " 'C:/Users/Amir/Desktop/mnist object localization/mnist_detection/train/images\\\\1001.png',\n",
       " 'C:/Users/Amir/Desktop/mnist object localization/mnist_detection/train/images\\\\1002.png',\n",
       " 'C:/Users/Amir/Desktop/mnist object localization/mnist_detection/train/images\\\\1003.png',\n",
       " 'C:/Users/Amir/Desktop/mnist object localization/mnist_detection/train/images\\\\1004.png',\n",
       " 'C:/Users/Amir/Desktop/mnist object localization/mnist_detection/train/images\\\\1005.png']"
      ]
     },
     "execution_count": 58,
     "metadata": {},
     "output_type": "execute_result"
    }
   ],
   "source": [
    "train_image_list[0:10]"
   ]
  },
  {
   "cell_type": "code",
   "execution_count": 59,
   "metadata": {},
   "outputs": [
    {
     "data": {
      "text/plain": [
       "['C:/Users/Amir/Desktop/mnist object localization/mnist_detection/train/labels\\\\0.txt',\n",
       " 'C:/Users/Amir/Desktop/mnist object localization/mnist_detection/train/labels\\\\1.txt',\n",
       " 'C:/Users/Amir/Desktop/mnist object localization/mnist_detection/train/labels\\\\10.txt',\n",
       " 'C:/Users/Amir/Desktop/mnist object localization/mnist_detection/train/labels\\\\100.txt',\n",
       " 'C:/Users/Amir/Desktop/mnist object localization/mnist_detection/train/labels\\\\1000.txt',\n",
       " 'C:/Users/Amir/Desktop/mnist object localization/mnist_detection/train/labels\\\\1001.txt',\n",
       " 'C:/Users/Amir/Desktop/mnist object localization/mnist_detection/train/labels\\\\1002.txt',\n",
       " 'C:/Users/Amir/Desktop/mnist object localization/mnist_detection/train/labels\\\\1003.txt',\n",
       " 'C:/Users/Amir/Desktop/mnist object localization/mnist_detection/train/labels\\\\1004.txt',\n",
       " 'C:/Users/Amir/Desktop/mnist object localization/mnist_detection/train/labels\\\\1005.txt']"
      ]
     },
     "execution_count": 59,
     "metadata": {},
     "output_type": "execute_result"
    }
   ],
   "source": [
    "train_label_list[:10]"
   ]
  },
  {
   "cell_type": "code",
   "execution_count": 60,
   "metadata": {},
   "outputs": [
    {
     "data": {
      "text/plain": [
       "<matplotlib.image.AxesImage at 0x1de77fdd190>"
      ]
     },
     "execution_count": 60,
     "metadata": {},
     "output_type": "execute_result"
    },
    {
     "data": {
      "image/png": "[encoded data removed]",
      "text/plain": [
       "<Figure size 640x480 with 1 Axes>"
      ]
     },
     "metadata": {},
     "output_type": "display_data"
    }
   ],
   "source": [
    "index=3 \n",
    "img=Image.open(train_image_list[index])\n",
    "plt.imshow(img)"
   ]
  },
  {
   "cell_type": "code",
   "execution_count": 61,
   "metadata": {},
   "outputs": [
    {
     "data": {
      "text/html": [
       "<div>\n",
       "<style scoped>\n",
       "    .dataframe tbody tr th:only-of-type {\n",
       "        vertical-align: middle;\n",
       "    }\n",
       "\n",
       "    .dataframe tbody tr th {\n",
       "        vertical-align: top;\n",
       "    }\n",
       "\n",
       "    .dataframe thead th {\n",
       "        text-align: right;\n",
       "    }\n",
       "</style>\n",
       "<table border=\"1\" class=\"dataframe\">\n",
       "  <thead>\n",
       "    <tr style=\"text-align: right;\">\n",
       "      <th></th>\n",
       "      <th>label</th>\n",
       "      <th>xmin</th>\n",
       "      <th>ymin</th>\n",
       "      <th>xmax</th>\n",
       "      <th>ymax</th>\n",
       "    </tr>\n",
       "  </thead>\n",
       "  <tbody>\n",
       "    <tr>\n",
       "      <th>0</th>\n",
       "      <td>6</td>\n",
       "      <td>200</td>\n",
       "      <td>174</td>\n",
       "      <td>245</td>\n",
       "      <td>237</td>\n",
       "    </tr>\n",
       "  </tbody>\n",
       "</table>\n",
       "</div>"
      ],
      "text/plain": [
       "   label  xmin  ymin  xmax  ymax\n",
       "0      6   200   174   245   237"
      ]
     },
     "execution_count": 61,
     "metadata": {},
     "output_type": "execute_result"
    }
   ],
   "source": [
    "bbox=pd.read_csv(train_label_list[index])\n",
    "bbox"
   ]
  },
  {
   "cell_type": "code",
   "execution_count": 62,
   "metadata": {},
   "outputs": [
    {
     "data": {
      "text/plain": [
       "array([  6, 200, 174, 245, 237], dtype=int64)"
      ]
     },
     "execution_count": 62,
     "metadata": {},
     "output_type": "execute_result"
    }
   ],
   "source": [
    "bbox=pd.read_csv(train_label_list[index]).values[0]\n",
    "bbox"
   ]
  },
  {
   "cell_type": "code",
   "execution_count": 63,
   "metadata": {},
   "outputs": [
    {
     "data": {
      "text/plain": [
       "numpy.ndarray"
      ]
     },
     "execution_count": 63,
     "metadata": {},
     "output_type": "execute_result"
    }
   ],
   "source": [
    "type(bbox)"
   ]
  },
  {
   "cell_type": "code",
   "execution_count": 64,
   "metadata": {},
   "outputs": [
    {
     "name": "stdout",
     "output_type": "stream",
     "text": [
      "<class 'torch.Tensor'>\n"
     ]
    },
    {
     "data": {
      "text/plain": [
       "tensor([  6, 200, 174, 245, 237])"
      ]
     },
     "execution_count": 64,
     "metadata": {},
     "output_type": "execute_result"
    }
   ],
   "source": [
    "bbox=torch.from_numpy(bbox)\n",
    "print(type(bbox))\n",
    "bbox"
   ]
  },
  {
   "cell_type": "code",
   "execution_count": 65,
   "metadata": {},
   "outputs": [
    {
     "data": {
      "text/plain": [
       "<matplotlib.patches.Rectangle at 0x1de76c7c610>"
      ]
     },
     "execution_count": 65,
     "metadata": {},
     "output_type": "execute_result"
    },
    {
     "data": {
      "image/png": "[encoded data removed]",
      "text/plain": [
       "<Figure size 640x480 with 1 Axes>"
      ]
     },
     "metadata": {},
     "output_type": "display_data"
    }
   ],
   "source": [
    "rect=plt.Rectangle((bbox[1],bbox[2]),bbox[3]-bbox[1],bbox[4]-bbox[2],color='yellow',fill=False)\n",
    "plt.imshow(img)\n",
    "plt.gca().add_patch(rect)"
   ]
  },
  {
   "cell_type": "code",
   "execution_count": 66,
   "metadata": {},
   "outputs": [
    {
     "data": {
      "image/png": "[encoded data removed]",
      "text/plain": [
       "<Figure size 640x480 with 1 Axes>"
      ]
     },
     "metadata": {},
     "output_type": "display_data"
    }
   ],
   "source": [
    "def draw_bbox (indx):\n",
    "    index=indx \n",
    "    img=Image.open(train_image_list[index])\n",
    "    bbox=pd.read_csv(train_label_list[index]).values[0]\n",
    "    rect=plt.Rectangle((bbox[1],bbox[2]),bbox[3]-bbox[1],bbox[4]-bbox[2],color='yellow',fill=False)\n",
    "    plt.imshow(img)\n",
    "    plt.gca().add_patch(rect)\n",
    "\n",
    "draw_bbox(87)"
   ]
  },
  {
   "cell_type": "markdown",
   "metadata": {},
   "source": [
    "Normalize the bounding box according the size "
   ]
  },
  {
   "cell_type": "code",
   "execution_count": 67,
   "metadata": {},
   "outputs": [
    {
     "name": "stdout",
     "output_type": "stream",
     "text": [
      "tensor([200, 174, 245, 237])\n",
      "(300, 300)\n",
      "(229, 229)\n",
      "0.7633333333333333\n",
      "tensor([0.5089, 0.4427, 0.6234, 0.6030])\n"
     ]
    },
    {
     "data": {
      "text/plain": [
       "tensor([152.6667, 132.8200, 187.0167, 180.9100])"
      ]
     },
     "execution_count": 67,
     "metadata": {},
     "output_type": "execute_result"
    }
   ],
   "source": [
    "print(bbox[1:])\n",
    "print(img.size)\n",
    "sz=229\n",
    "image_resize= transforms.Resize((sz,sz))\n",
    "img=image_resize(img)\n",
    "print(img.size)\n",
    "scale=sz/300\n",
    "print(scale)\n",
    "bbox_new=(bbox[1:]/300)*scale\n",
    "print(bbox_new)\n",
    "bbox_new=(bbox_new/scale)*229           #this is a bbox if image size is 229*229\n",
    "bbox_new\n"
   ]
  },
  {
   "cell_type": "markdown",
   "metadata": {},
   "source": [
    "# make the custome dataset"
   ]
  },
  {
   "cell_type": "code",
   "execution_count": 73,
   "metadata": {},
   "outputs": [],
   "source": [
    "class mnist_dataset (Dataset):\n",
    "    def __init__(self,images,bbox,sz):\n",
    "        self.images=images\n",
    "        self.bbox=bbox\n",
    "        self.sz=sz\n",
    "        self.transforms=transforms.Compose([transforms.Resize((sz,sz)), transforms.ToTensor()])\n",
    "                                           \n",
    "    def __getitem__(self,index):\n",
    "        image=self.images[index]\n",
    "        image=Image.open(image)\n",
    "        (w,h)=image.size\n",
    "        image=self.transforms(image)\n",
    "        scale=sz/w\n",
    "        annotation=pd.read_csv(self.bbox[index]).values[0]\n",
    "        lbl=annotation[0]\n",
    "        bbox=annotation[1:]\n",
    "        bbox=torch.from_numpy(bbox)\n",
    "        bbox=(bbox/w)*scale\n",
    "        return image,lbl,bbox,(w,h)\n",
    "    \n",
    "    def __len__(self):\n",
    "        return len(self.images)\n",
    "        \n"
   ]
  },
  {
   "cell_type": "markdown",
   "metadata": {},
   "source": [
    "# Dataloader"
   ]
  },
  {
   "cell_type": "code",
   "execution_count": 74,
   "metadata": {},
   "outputs": [],
   "source": [
    "train_ds= mnist_dataset(train_image_list,train_label_list ,sz=229)\n",
    "test_ds= mnist_dataset(test_image_list,test_label_list ,sz=229)\n",
    "train_dl=DataLoader(dataset= train_ds,batch_size=16 , shuffle=True)\n",
    "test_dl=DataLoader(dataset= test_ds,batch_size=16 , shuffle=True)"
   ]
  },
  {
   "cell_type": "code",
   "execution_count": 71,
   "metadata": {},
   "outputs": [
    {
     "data": {
      "text/plain": [
       "<torch.utils.data.dataloader.DataLoader at 0x1de78494b80>"
      ]
     },
     "execution_count": 71,
     "metadata": {},
     "output_type": "execute_result"
    }
   ],
   "source": [
    "train_dl"
   ]
  },
  {
   "cell_type": "code",
   "execution_count": 76,
   "metadata": {},
   "outputs": [
    {
     "name": "stdout",
     "output_type": "stream",
     "text": [
      "16\n",
      "tensor([0, 9, 8, 6, 7, 7, 2, 5, 6, 8, 3, 4, 2, 7, 5, 2])\n",
      "tensor([[0.1450, 0.6997, 0.1959, 0.7506],\n",
      "        [0.1069, 0.4758, 0.1527, 0.5496],\n",
      "        [0.5216, 0.0534, 0.5700, 0.1298],\n",
      "        [0.0967, 0.6743, 0.1450, 0.7226],\n",
      "        [0.3257, 0.4020, 0.4020, 0.5242],\n",
      "        [0.3639, 0.0687, 0.4656, 0.1959],\n",
      "        [0.5038, 0.2595, 0.6005, 0.3562],\n",
      "        [0.2723, 0.3689, 0.3842, 0.4707],\n",
      "        [0.6285, 0.1196, 0.7379, 0.2417],\n",
      "        [0.3435, 0.1857, 0.4834, 0.3588],\n",
      "        [0.1323, 0.4249, 0.2188, 0.5318],\n",
      "        [0.2265, 0.0636, 0.3588, 0.2112],\n",
      "        [0.3918, 0.3969, 0.5165, 0.5216],\n",
      "        [0.1323, 0.2214, 0.2723, 0.3766],\n",
      "        [0.0407, 0.3410, 0.1628, 0.4733],\n",
      "        [0.1425, 0.5369, 0.2468, 0.6641]])\n"
     ]
    }
   ],
   "source": [
    "images,labels,bboxs,_=next(iter(train_dl))\n",
    "print(len(images))\n",
    "print(labels)\n",
    "print(bboxs)"
   ]
  },
  {
   "cell_type": "markdown",
   "metadata": {},
   "source": [
    "# Use pretrained model : Resnet34"
   ]
  },
  {
   "cell_type": "code",
   "execution_count": 86,
   "metadata": {},
   "outputs": [
    {
     "name": "stderr",
     "output_type": "stream",
     "text": [
      "C:\\Users\\Amir\\AppData\\Roaming\\Python\\Python39\\site-packages\\torchvision\\models\\_utils.py:208: UserWarning: The parameter 'pretrained' is deprecated since 0.13 and may be removed in the future, please use 'weights' instead.\n",
      "  warnings.warn(\n",
      "C:\\Users\\Amir\\AppData\\Roaming\\Python\\Python39\\site-packages\\torchvision\\models\\_utils.py:223: UserWarning: Arguments other than a weight enum or `None` for 'weights' are deprecated since 0.13 and may be removed in the future. The current behavior is equivalent to passing `weights=ResNet34_Weights.IMAGENET1K_V1`. You can also use `weights=ResNet34_Weights.DEFAULT` to get the most up-to-date weights.\n",
      "  warnings.warn(msg)\n",
      "Downloading: \"https://download.pytorch.org/models/resnet34-b627a593.pth\" to C:\\Users\\Amir/.cache\\torch\\hub\\checkpoints\\resnet34-b627a593.pth\n",
      "100%|██████████| 83.3M/83.3M [00:21<00:00, 4.02MB/s]\n"
     ]
    },
    {
     "data": {
      "text/plain": [
       "ResNet(\n",
       "  (conv1): Conv2d(3, 64, kernel_size=(7, 7), stride=(2, 2), padding=(3, 3), bias=False)\n",
       "  (bn1): BatchNorm2d(64, eps=1e-05, momentum=0.1, affine=True, track_running_stats=True)\n",
       "  (relu): ReLU(inplace=True)\n",
       "  (maxpool): MaxPool2d(kernel_size=3, stride=2, padding=1, dilation=1, ceil_mode=False)\n",
       "  (layer1): Sequential(\n",
       "    (0): BasicBlock(\n",
       "      (conv1): Conv2d(64, 64, kernel_size=(3, 3), stride=(1, 1), padding=(1, 1), bias=False)\n",
       "      (bn1): BatchNorm2d(64, eps=1e-05, momentum=0.1, affine=True, track_running_stats=True)\n",
       "      (relu): ReLU(inplace=True)\n",
       "      (conv2): Conv2d(64, 64, kernel_size=(3, 3), stride=(1, 1), padding=(1, 1), bias=False)\n",
       "      (bn2): BatchNorm2d(64, eps=1e-05, momentum=0.1, affine=True, track_running_stats=True)\n",
       "    )\n",
       "    (1): BasicBlock(\n",
       "      (conv1): Conv2d(64, 64, kernel_size=(3, 3), stride=(1, 1), padding=(1, 1), bias=False)\n",
       "      (bn1): BatchNorm2d(64, eps=1e-05, momentum=0.1, affine=True, track_running_stats=True)\n",
       "      (relu): ReLU(inplace=True)\n",
       "      (conv2): Conv2d(64, 64, kernel_size=(3, 3), stride=(1, 1), padding=(1, 1), bias=False)\n",
       "      (bn2): BatchNorm2d(64, eps=1e-05, momentum=0.1, affine=True, track_running_stats=True)\n",
       "    )\n",
       "    (2): BasicBlock(\n",
       "      (conv1): Conv2d(64, 64, kernel_size=(3, 3), stride=(1, 1), padding=(1, 1), bias=False)\n",
       "      (bn1): BatchNorm2d(64, eps=1e-05, momentum=0.1, affine=True, track_running_stats=True)\n",
       "      (relu): ReLU(inplace=True)\n",
       "      (conv2): Conv2d(64, 64, kernel_size=(3, 3), stride=(1, 1), padding=(1, 1), bias=False)\n",
       "      (bn2): BatchNorm2d(64, eps=1e-05, momentum=0.1, affine=True, track_running_stats=True)\n",
       "    )\n",
       "  )\n",
       "  (layer2): Sequential(\n",
       "    (0): BasicBlock(\n",
       "      (conv1): Conv2d(64, 128, kernel_size=(3, 3), stride=(2, 2), padding=(1, 1), bias=False)\n",
       "      (bn1): BatchNorm2d(128, eps=1e-05, momentum=0.1, affine=True, track_running_stats=True)\n",
       "      (relu): ReLU(inplace=True)\n",
       "      (conv2): Conv2d(128, 128, kernel_size=(3, 3), stride=(1, 1), padding=(1, 1), bias=False)\n",
       "      (bn2): BatchNorm2d(128, eps=1e-05, momentum=0.1, affine=True, track_running_stats=True)\n",
       "      (downsample): Sequential(\n",
       "        (0): Conv2d(64, 128, kernel_size=(1, 1), stride=(2, 2), bias=False)\n",
       "        (1): BatchNorm2d(128, eps=1e-05, momentum=0.1, affine=True, track_running_stats=True)\n",
       "      )\n",
       "    )\n",
       "    (1): BasicBlock(\n",
       "      (conv1): Conv2d(128, 128, kernel_size=(3, 3), stride=(1, 1), padding=(1, 1), bias=False)\n",
       "      (bn1): BatchNorm2d(128, eps=1e-05, momentum=0.1, affine=True, track_running_stats=True)\n",
       "      (relu): ReLU(inplace=True)\n",
       "      (conv2): Conv2d(128, 128, kernel_size=(3, 3), stride=(1, 1), padding=(1, 1), bias=False)\n",
       "      (bn2): BatchNorm2d(128, eps=1e-05, momentum=0.1, affine=True, track_running_stats=True)\n",
       "    )\n",
       "    (2): BasicBlock(\n",
       "      (conv1): Conv2d(128, 128, kernel_size=(3, 3), stride=(1, 1), padding=(1, 1), bias=False)\n",
       "      (bn1): BatchNorm2d(128, eps=1e-05, momentum=0.1, affine=True, track_running_stats=True)\n",
       "      (relu): ReLU(inplace=True)\n",
       "      (conv2): Conv2d(128, 128, kernel_size=(3, 3), stride=(1, 1), padding=(1, 1), bias=False)\n",
       "      (bn2): BatchNorm2d(128, eps=1e-05, momentum=0.1, affine=True, track_running_stats=True)\n",
       "    )\n",
       "    (3): BasicBlock(\n",
       "      (conv1): Conv2d(128, 128, kernel_size=(3, 3), stride=(1, 1), padding=(1, 1), bias=False)\n",
       "      (bn1): BatchNorm2d(128, eps=1e-05, momentum=0.1, affine=True, track_running_stats=True)\n",
       "      (relu): ReLU(inplace=True)\n",
       "      (conv2): Conv2d(128, 128, kernel_size=(3, 3), stride=(1, 1), padding=(1, 1), bias=False)\n",
       "      (bn2): BatchNorm2d(128, eps=1e-05, momentum=0.1, affine=True, track_running_stats=True)\n",
       "    )\n",
       "  )\n",
       "  (layer3): Sequential(\n",
       "    (0): BasicBlock(\n",
       "      (conv1): Conv2d(128, 256, kernel_size=(3, 3), stride=(2, 2), padding=(1, 1), bias=False)\n",
       "      (bn1): BatchNorm2d(256, eps=1e-05, momentum=0.1, affine=True, track_running_stats=True)\n",
       "      (relu): ReLU(inplace=True)\n",
       "      (conv2): Conv2d(256, 256, kernel_size=(3, 3), stride=(1, 1), padding=(1, 1), bias=False)\n",
       "      (bn2): BatchNorm2d(256, eps=1e-05, momentum=0.1, affine=True, track_running_stats=True)\n",
       "      (downsample): Sequential(\n",
       "        (0): Conv2d(128, 256, kernel_size=(1, 1), stride=(2, 2), bias=False)\n",
       "        (1): BatchNorm2d(256, eps=1e-05, momentum=0.1, affine=True, track_running_stats=True)\n",
       "      )\n",
       "    )\n",
       "    (1): BasicBlock(\n",
       "      (conv1): Conv2d(256, 256, kernel_size=(3, 3), stride=(1, 1), padding=(1, 1), bias=False)\n",
       "      (bn1): BatchNorm2d(256, eps=1e-05, momentum=0.1, affine=True, track_running_stats=True)\n",
       "      (relu): ReLU(inplace=True)\n",
       "      (conv2): Conv2d(256, 256, kernel_size=(3, 3), stride=(1, 1), padding=(1, 1), bias=False)\n",
       "      (bn2): BatchNorm2d(256, eps=1e-05, momentum=0.1, affine=True, track_running_stats=True)\n",
       "    )\n",
       "    (2): BasicBlock(\n",
       "      (conv1): Conv2d(256, 256, kernel_size=(3, 3), stride=(1, 1), padding=(1, 1), bias=False)\n",
       "      (bn1): BatchNorm2d(256, eps=1e-05, momentum=0.1, affine=True, track_running_stats=True)\n",
       "      (relu): ReLU(inplace=True)\n",
       "      (conv2): Conv2d(256, 256, kernel_size=(3, 3), stride=(1, 1), padding=(1, 1), bias=False)\n",
       "      (bn2): BatchNorm2d(256, eps=1e-05, momentum=0.1, affine=True, track_running_stats=True)\n",
       "    )\n",
       "    (3): BasicBlock(\n",
       "      (conv1): Conv2d(256, 256, kernel_size=(3, 3), stride=(1, 1), padding=(1, 1), bias=False)\n",
       "      (bn1): BatchNorm2d(256, eps=1e-05, momentum=0.1, affine=True, track_running_stats=True)\n",
       "      (relu): ReLU(inplace=True)\n",
       "      (conv2): Conv2d(256, 256, kernel_size=(3, 3), stride=(1, 1), padding=(1, 1), bias=False)\n",
       "      (bn2): BatchNorm2d(256, eps=1e-05, momentum=0.1, affine=True, track_running_stats=True)\n",
       "    )\n",
       "    (4): BasicBlock(\n",
       "      (conv1): Conv2d(256, 256, kernel_size=(3, 3), stride=(1, 1), padding=(1, 1), bias=False)\n",
       "      (bn1): BatchNorm2d(256, eps=1e-05, momentum=0.1, affine=True, track_running_stats=True)\n",
       "      (relu): ReLU(inplace=True)\n",
       "      (conv2): Conv2d(256, 256, kernel_size=(3, 3), stride=(1, 1), padding=(1, 1), bias=False)\n",
       "      (bn2): BatchNorm2d(256, eps=1e-05, momentum=0.1, affine=True, track_running_stats=True)\n",
       "    )\n",
       "    (5): BasicBlock(\n",
       "      (conv1): Conv2d(256, 256, kernel_size=(3, 3), stride=(1, 1), padding=(1, 1), bias=False)\n",
       "      (bn1): BatchNorm2d(256, eps=1e-05, momentum=0.1, affine=True, track_running_stats=True)\n",
       "      (relu): ReLU(inplace=True)\n",
       "      (conv2): Conv2d(256, 256, kernel_size=(3, 3), stride=(1, 1), padding=(1, 1), bias=False)\n",
       "      (bn2): BatchNorm2d(256, eps=1e-05, momentum=0.1, affine=True, track_running_stats=True)\n",
       "    )\n",
       "  )\n",
       "  (layer4): Sequential(\n",
       "    (0): BasicBlock(\n",
       "      (conv1): Conv2d(256, 512, kernel_size=(3, 3), stride=(2, 2), padding=(1, 1), bias=False)\n",
       "      (bn1): BatchNorm2d(512, eps=1e-05, momentum=0.1, affine=True, track_running_stats=True)\n",
       "      (relu): ReLU(inplace=True)\n",
       "      (conv2): Conv2d(512, 512, kernel_size=(3, 3), stride=(1, 1), padding=(1, 1), bias=False)\n",
       "      (bn2): BatchNorm2d(512, eps=1e-05, momentum=0.1, affine=True, track_running_stats=True)\n",
       "      (downsample): Sequential(\n",
       "        (0): Conv2d(256, 512, kernel_size=(1, 1), stride=(2, 2), bias=False)\n",
       "        (1): BatchNorm2d(512, eps=1e-05, momentum=0.1, affine=True, track_running_stats=True)\n",
       "      )\n",
       "    )\n",
       "    (1): BasicBlock(\n",
       "      (conv1): Conv2d(512, 512, kernel_size=(3, 3), stride=(1, 1), padding=(1, 1), bias=False)\n",
       "      (bn1): BatchNorm2d(512, eps=1e-05, momentum=0.1, affine=True, track_running_stats=True)\n",
       "      (relu): ReLU(inplace=True)\n",
       "      (conv2): Conv2d(512, 512, kernel_size=(3, 3), stride=(1, 1), padding=(1, 1), bias=False)\n",
       "      (bn2): BatchNorm2d(512, eps=1e-05, momentum=0.1, affine=True, track_running_stats=True)\n",
       "    )\n",
       "    (2): BasicBlock(\n",
       "      (conv1): Conv2d(512, 512, kernel_size=(3, 3), stride=(1, 1), padding=(1, 1), bias=False)\n",
       "      (bn1): BatchNorm2d(512, eps=1e-05, momentum=0.1, affine=True, track_running_stats=True)\n",
       "      (relu): ReLU(inplace=True)\n",
       "      (conv2): Conv2d(512, 512, kernel_size=(3, 3), stride=(1, 1), padding=(1, 1), bias=False)\n",
       "      (bn2): BatchNorm2d(512, eps=1e-05, momentum=0.1, affine=True, track_running_stats=True)\n",
       "    )\n",
       "  )\n",
       "  (avgpool): AdaptiveAvgPool2d(output_size=(1, 1))\n",
       "  (fc): Linear(in_features=512, out_features=1000, bias=True)\n",
       ")"
      ]
     },
     "execution_count": 86,
     "metadata": {},
     "output_type": "execute_result"
    }
   ],
   "source": [
    "model=models.resnet34(pretrained=True)\n",
    "model"
   ]
  },
  {
   "cell_type": "markdown",
   "metadata": {},
   "source": [
    "in Conv1  3 channel must be changed into 1 and in the last fc layer out_features must be 10+4\n"
   ]
  },
  {
   "cell_type": "code",
   "execution_count": 100,
   "metadata": {},
   "outputs": [],
   "source": [
    "class custommodel (nn.Module):\n",
    "    def __init__(self,num_classes=10):\n",
    "        super (custommodel,self).__init__()\n",
    "        self.num_classes=num_classes\n",
    "        model=models.resnet34(pretrained=True)\n",
    "        model.conv1=nn.Conv2d(1, 64, kernel_size=(7, 7), stride=(2, 2), padding=(3, 3), bias=False)\n",
    "        in_feature= model.fc.in_features\n",
    "        model.fc=nn.Linear(in_features=in_feature, out_features=num_classes+4, bias=True)\n",
    "        self.model=model\n",
    "    \n",
    "    def forward(self,x):\n",
    "        out=self.model(x)\n",
    "        score=out[:,:self.num_classes]\n",
    "        bbox=out[:,self.num_classes:]\n",
    "        return score,torch.sigmoid(bbox)\n",
    "    \n",
    "    "
   ]
  },
  {
   "cell_type": "markdown",
   "metadata": {},
   "source": [
    "# loss function"
   ]
  },
  {
   "cell_type": "code",
   "execution_count": 101,
   "metadata": {},
   "outputs": [],
   "source": [
    "class customloss (nn.Module):\n",
    "    def __init__(self):\n",
    "        super (customloss,self).__init__()\n",
    "        self.crossEntropy=nn.CrossEntropyLoss()\n",
    "        self.mse=nn.MSELoss(reduction='sum')\n",
    "\n",
    "    def forward (self, score,labl,pbbox,bbox):\n",
    "        classloss= self.crossEntropy(score,labl)\n",
    "        l1=self.mse(pbbox[:, 0],bbox[:,0])\n",
    "        l2=self.mse(pbbox[:, 1],bbox[:,1])\n",
    "        l3=self.mse(pbbox[:, 2],bbox[:,2])\n",
    "        l4=self.mse(pbbox[:, 3],bbox[:,3])\n",
    "        return classloss+l1+l2+l3+l4\n",
    "\n",
    "    "
   ]
  },
  {
   "cell_type": "code",
   "execution_count": 102,
   "metadata": {},
   "outputs": [
    {
     "name": "stderr",
     "output_type": "stream",
     "text": [
      "C:\\Users\\Amir\\AppData\\Roaming\\Python\\Python39\\site-packages\\torchvision\\models\\_utils.py:208: UserWarning: The parameter 'pretrained' is deprecated since 0.13 and may be removed in the future, please use 'weights' instead.\n",
      "  warnings.warn(\n",
      "C:\\Users\\Amir\\AppData\\Roaming\\Python\\Python39\\site-packages\\torchvision\\models\\_utils.py:223: UserWarning: Arguments other than a weight enum or `None` for 'weights' are deprecated since 0.13 and may be removed in the future. The current behavior is equivalent to passing `weights=ResNet34_Weights.IMAGENET1K_V1`. You can also use `weights=ResNet34_Weights.DEFAULT` to get the most up-to-date weights.\n",
      "  warnings.warn(msg)\n"
     ]
    }
   ],
   "source": [
    "model=custommodel()\n",
    "device = 'cuda' if torch.cuda.is_available() else 'cpu'\n",
    "criterion=customloss()\n",
    "model=model.to(device)\n",
    "criterion=criterion.to(device)\n",
    "optimiser= optim.Adam(params=model.parameters(), lr=0.00001)"
   ]
  },
  {
   "cell_type": "code",
   "execution_count": 118,
   "metadata": {},
   "outputs": [
    {
     "name": "stdout",
     "output_type": "stream",
     "text": [
      "loss in idx 1 equal to 0.03530145063996315\n",
      "loss in idx 51 equal to 0.0468609556555748\n",
      "loss in idx 101 equal to 0.03174975514411926\n",
      "loss in idx 151 equal to 0.027855155989527702\n",
      "loss in idx 201 equal to 0.013866892084479332\n",
      "loss in idx 251 equal to 0.03527258336544037\n",
      "loss in idx 301 equal to 0.02278492972254753\n",
      "loss in idx 351 equal to 0.053643546998500824\n",
      "loss in idx 401 equal to 0.026533950120210648\n",
      "loss in idx 451 equal to 0.018828729167580605\n",
      "loss in idx 501 equal to 0.013879956677556038\n",
      "loss in idx 551 equal to 0.015592046082019806\n",
      "loss in idx 601 equal to 0.0887739434838295\n",
      "loss in epoch 1 equal to 23.20036506652832\n",
      "loss in idx 1 equal to 0.008039820939302444\n",
      "loss in idx 51 equal to 0.010689272545278072\n",
      "loss in idx 101 equal to 0.0159706212580204\n",
      "loss in idx 151 equal to 0.057472534477710724\n",
      "loss in idx 201 equal to 0.016183020547032356\n",
      "loss in idx 251 equal to 0.018163569271564484\n",
      "loss in idx 301 equal to 0.015567711554467678\n",
      "loss in idx 351 equal to 0.02801182121038437\n",
      "loss in idx 401 equal to 0.00888640433549881\n",
      "loss in idx 451 equal to 0.014364613220095634\n",
      "loss in idx 501 equal to 0.01909491792321205\n",
      "loss in idx 551 equal to 0.02380671724677086\n",
      "loss in idx 601 equal to 0.0168939009308815\n",
      "loss in epoch 2 equal to 25.037254333496094\n",
      "loss in idx 1 equal to 0.03955693915486336\n",
      "loss in idx 51 equal to 0.022896360605955124\n",
      "loss in idx 101 equal to 0.17638960480690002\n",
      "loss in idx 151 equal to 0.0666547641158104\n",
      "loss in idx 201 equal to 0.012430689297616482\n",
      "loss in idx 251 equal to 0.016672518104314804\n",
      "loss in idx 301 equal to 0.10186181217432022\n",
      "loss in idx 351 equal to 0.02250620350241661\n",
      "loss in idx 401 equal to 0.018716147169470787\n",
      "loss in idx 451 equal to 0.011500583961606026\n",
      "loss in idx 501 equal to 0.019497668370604515\n",
      "loss in idx 551 equal to 0.02083720825612545\n",
      "loss in idx 601 equal to 0.008905320428311825\n",
      "loss in epoch 3 equal to 22.944374084472656\n",
      "loss in idx 1 equal to 0.017722779884934425\n",
      "loss in idx 51 equal to 0.04513796046376228\n",
      "loss in idx 101 equal to 0.011785363778471947\n",
      "loss in idx 151 equal to 0.033226288855075836\n",
      "loss in idx 201 equal to 0.06377875804901123\n",
      "loss in idx 251 equal to 0.01106341928243637\n",
      "loss in idx 301 equal to 0.011234266683459282\n",
      "loss in idx 351 equal to 0.015268887393176556\n",
      "loss in idx 401 equal to 0.021207567304372787\n",
      "loss in idx 451 equal to 0.024120787158608437\n",
      "loss in idx 501 equal to 0.011739791370928288\n",
      "loss in idx 551 equal to 0.009076861664652824\n",
      "loss in idx 601 equal to 0.023183243349194527\n",
      "loss in epoch 4 equal to 18.15387535095215\n",
      "loss in idx 1 equal to 0.009409344755113125\n",
      "loss in idx 51 equal to 0.013569643720984459\n",
      "loss in idx 101 equal to 0.018503626808524132\n",
      "loss in idx 151 equal to 0.010534433647990227\n",
      "loss in idx 201 equal to 0.015657728537917137\n",
      "loss in idx 251 equal to 0.01843416318297386\n",
      "loss in idx 301 equal to 0.02629784494638443\n",
      "loss in idx 351 equal to 0.042127564549446106\n",
      "loss in idx 401 equal to 0.014065747149288654\n",
      "loss in idx 451 equal to 0.0313766784965992\n",
      "loss in idx 501 equal to 0.013793671503663063\n",
      "loss in idx 551 equal to 0.0703292191028595\n",
      "loss in idx 601 equal to 0.018943682312965393\n",
      "loss in epoch 5 equal to 22.12607192993164\n",
      "loss in idx 1 equal to 0.04219084978103638\n",
      "loss in idx 51 equal to 0.016692303121089935\n",
      "loss in idx 101 equal to 0.010465985164046288\n",
      "loss in idx 151 equal to 0.012428689748048782\n",
      "loss in idx 201 equal to 0.04161536321043968\n",
      "loss in idx 251 equal to 0.015278534963726997\n",
      "loss in idx 301 equal to 0.01835159957408905\n",
      "loss in idx 351 equal to 0.01683831214904785\n",
      "loss in idx 401 equal to 0.029330261051654816\n",
      "loss in idx 451 equal to 0.043841131031513214\n",
      "loss in idx 501 equal to 0.010005027055740356\n",
      "loss in idx 551 equal to 0.011282172985374928\n",
      "loss in idx 601 equal to 0.01881537213921547\n",
      "loss in epoch 6 equal to 17.253372192382812\n",
      "loss in idx 1 equal to 0.024187831208109856\n",
      "loss in idx 51 equal to 0.014273538254201412\n",
      "loss in idx 101 equal to 0.013347648084163666\n",
      "loss in idx 151 equal to 0.014067529700696468\n",
      "loss in idx 201 equal to 0.014995122328400612\n",
      "loss in idx 251 equal to 0.011862985789775848\n",
      "loss in idx 301 equal to 0.01127451192587614\n",
      "loss in idx 351 equal to 0.016351372003555298\n",
      "loss in idx 401 equal to 0.008768299594521523\n",
      "loss in idx 451 equal to 0.0164130087941885\n",
      "loss in idx 501 equal to 0.013676460832357407\n",
      "loss in idx 551 equal to 0.5661615133285522\n",
      "loss in idx 601 equal to 0.011786805465817451\n",
      "loss in epoch 7 equal to 18.70878791809082\n",
      "loss in idx 1 equal to 0.014958436600863934\n",
      "loss in idx 51 equal to 0.010503956116735935\n",
      "loss in idx 101 equal to 0.010891452431678772\n",
      "loss in idx 151 equal to 0.018680943176150322\n",
      "loss in idx 201 equal to 0.24034489691257477\n",
      "loss in idx 251 equal to 0.010916671715676785\n",
      "loss in idx 301 equal to 0.0223548486828804\n",
      "loss in idx 351 equal to 0.005812136456370354\n",
      "loss in idx 401 equal to 0.017324572429060936\n",
      "loss in idx 451 equal to 0.018299797549843788\n",
      "loss in idx 501 equal to 0.15730062127113342\n",
      "loss in idx 551 equal to 0.11995647102594376\n",
      "loss in idx 601 equal to 0.0136633962392807\n",
      "loss in epoch 8 equal to 18.80879020690918\n",
      "loss in idx 1 equal to 0.06992725282907486\n",
      "loss in idx 51 equal to 0.045472778379917145\n",
      "loss in idx 101 equal to 0.01893976517021656\n",
      "loss in idx 151 equal to 0.013526689261198044\n",
      "loss in idx 201 equal to 0.007270922884345055\n",
      "loss in idx 251 equal to 0.01658567041158676\n",
      "loss in idx 301 equal to 0.018025076016783714\n",
      "loss in idx 351 equal to 0.016382265836000443\n",
      "loss in idx 401 equal to 0.014377331361174583\n",
      "loss in idx 451 equal to 0.033346645534038544\n",
      "loss in idx 501 equal to 0.0064245909452438354\n",
      "loss in idx 551 equal to 0.018089978024363518\n",
      "loss in idx 601 equal to 0.008493971079587936\n",
      "loss in epoch 9 equal to 15.410502433776855\n",
      "loss in idx 1 equal to 0.02330617606639862\n",
      "loss in idx 51 equal to 0.008155262097716331\n",
      "loss in idx 101 equal to 0.019251056015491486\n",
      "loss in idx 151 equal to 0.013156380504369736\n",
      "loss in idx 201 equal to 0.007361628580838442\n",
      "loss in idx 251 equal to 0.01017822977155447\n",
      "loss in idx 301 equal to 0.010733062401413918\n",
      "loss in idx 351 equal to 0.007673152722418308\n",
      "loss in idx 401 equal to 0.013722916133701801\n",
      "loss in idx 451 equal to 0.014862967655062675\n",
      "loss in idx 501 equal to 0.01328203547745943\n",
      "loss in idx 551 equal to 0.00802403874695301\n",
      "loss in idx 601 equal to 0.021478435024619102\n",
      "loss in epoch 10 equal to 11.386249542236328\n",
      "loss in idx 1 equal to 0.01022900640964508\n",
      "loss in idx 51 equal to 0.019437752664089203\n",
      "loss in idx 101 equal to 0.005048632156103849\n",
      "loss in idx 151 equal to 0.027343763038516045\n",
      "loss in idx 201 equal to 0.0113522969186306\n",
      "loss in idx 251 equal to 0.01106422208249569\n",
      "loss in idx 301 equal to 0.01130314264446497\n",
      "loss in idx 351 equal to 0.013947242870926857\n",
      "loss in idx 401 equal to 0.012945742346346378\n",
      "loss in idx 451 equal to 0.12340773642063141\n",
      "loss in idx 501 equal to 0.013107762672007084\n",
      "loss in idx 551 equal to 0.26565125584602356\n",
      "loss in idx 601 equal to 0.008283783681690693\n",
      "loss in epoch 11 equal to 17.543041229248047\n",
      "loss in idx 1 equal to 0.08018200844526291\n",
      "loss in idx 51 equal to 0.012636515311896801\n",
      "loss in idx 101 equal to 0.06899791955947876\n",
      "loss in idx 151 equal to 0.013425336219370365\n",
      "loss in idx 201 equal to 0.013602744787931442\n",
      "loss in idx 251 equal to 0.009548885747790337\n",
      "loss in idx 301 equal to 0.006833914667367935\n",
      "loss in idx 351 equal to 0.011028831824660301\n",
      "loss in idx 401 equal to 0.0981651246547699\n",
      "loss in idx 451 equal to 0.007804146967828274\n",
      "loss in idx 501 equal to 0.007023923099040985\n",
      "loss in idx 551 equal to 0.07509350031614304\n",
      "loss in idx 601 equal to 0.010054380632936954\n",
      "loss in epoch 12 equal to 13.815919876098633\n",
      "loss in idx 1 equal to 0.009198964573442936\n",
      "loss in idx 51 equal to 0.030371930450201035\n",
      "loss in idx 101 equal to 0.006883419118821621\n",
      "loss in idx 151 equal to 0.0629839152097702\n",
      "loss in idx 201 equal to 0.011772476136684418\n",
      "loss in idx 251 equal to 0.015803027898073196\n",
      "loss in idx 301 equal to 0.006364868022501469\n",
      "loss in idx 351 equal to 0.012797322124242783\n",
      "loss in idx 401 equal to 0.021835744380950928\n",
      "loss in idx 451 equal to 0.012279407121241093\n",
      "loss in idx 501 equal to 0.010895147919654846\n",
      "loss in idx 551 equal to 0.010877365246415138\n",
      "loss in idx 601 equal to 0.00553541025146842\n",
      "loss in epoch 13 equal to 11.803632736206055\n",
      "loss in idx 1 equal to 0.009485897608101368\n",
      "loss in idx 51 equal to 0.007237231358885765\n",
      "loss in idx 101 equal to 0.0068807220086455345\n",
      "loss in idx 151 equal to 0.009382756426930428\n",
      "loss in idx 201 equal to 0.017021264880895615\n",
      "loss in idx 251 equal to 0.01023909356445074\n",
      "loss in idx 301 equal to 0.00638066790997982\n",
      "loss in idx 351 equal to 0.009291205555200577\n",
      "loss in idx 401 equal to 0.010014747269451618\n",
      "loss in idx 451 equal to 0.04079608619213104\n",
      "loss in idx 501 equal to 0.025404609739780426\n",
      "loss in idx 551 equal to 0.010080905631184578\n",
      "loss in idx 601 equal to 0.023418845608830452\n",
      "loss in epoch 14 equal to 14.276751518249512\n",
      "loss in idx 1 equal to 0.01911005936563015\n",
      "loss in idx 51 equal to 0.010962693020701408\n",
      "loss in idx 101 equal to 0.011862154118716717\n",
      "loss in idx 151 equal to 0.012037570588290691\n",
      "loss in idx 201 equal to 0.005953360814601183\n",
      "loss in idx 251 equal to 0.006571400444954634\n",
      "loss in idx 301 equal to 0.007764424663037062\n",
      "loss in idx 351 equal to 0.006734645925462246\n",
      "loss in idx 401 equal to 0.007072496693581343\n",
      "loss in idx 451 equal to 0.008009400218725204\n",
      "loss in idx 501 equal to 0.093813955783844\n",
      "loss in idx 551 equal to 0.005834531504660845\n",
      "loss in idx 601 equal to 0.011259918101131916\n",
      "loss in epoch 15 equal to 10.652484893798828\n"
     ]
    }
   ],
   "source": [
    "epochs=15\n",
    "\n",
    "for i in range(epochs):\n",
    "    sumloss=0\n",
    "    for idx,(images,lbl,bbox,_) in enumerate(train_dl):\n",
    "        images=images.to(device)\n",
    "        lbl=lbl.to(device)\n",
    "        bbox=bbox.to(device)\n",
    "        score,pbbox=model(images)\n",
    "        loss=criterion(score,lbl,pbbox,bbox)\n",
    "        sumloss+=loss\n",
    "        optimiser.zero_grad()\n",
    "        loss.backward()\n",
    "        optimiser.step()\n",
    "\n",
    "        if idx%50==0:\n",
    "            print(f'loss in idx {idx+1} equal to {loss}')\n",
    "    print(f'loss in epoch {i+1} equal to {sumloss}')\n",
    "\n"
   ]
  },
  {
   "cell_type": "code",
   "execution_count": 119,
   "metadata": {},
   "outputs": [
    {
     "name": "stdout",
     "output_type": "stream",
     "text": [
      "torch.Size([16, 1, 229, 229])\n"
     ]
    }
   ],
   "source": [
    "images,_,_,size=next(iter(train_dl))\n",
    "print(images.size())\n",
    "images=images.to(device)\n",
    "score,pbbox=model(images)"
   ]
  },
  {
   "cell_type": "code",
   "execution_count": 120,
   "metadata": {},
   "outputs": [
    {
     "name": "stdout",
     "output_type": "stream",
     "text": [
      "torch.Size([16, 10])\n"
     ]
    },
    {
     "data": {
      "text/plain": [
       "tensor([-2.4359, -2.8387,  9.7186, -2.1000, -1.9444, -1.9049, -2.6660, -1.5450,\n",
       "        -0.6060, -2.4623], device='cuda:0', grad_fn=<SelectBackward0>)"
      ]
     },
     "execution_count": 120,
     "metadata": {},
     "output_type": "execute_result"
    }
   ],
   "source": [
    "print(score.size())\n",
    "score[3]"
   ]
  },
  {
   "cell_type": "code",
   "execution_count": 121,
   "metadata": {},
   "outputs": [
    {
     "name": "stdout",
     "output_type": "stream",
     "text": [
      "torch.Size([16, 4])\n"
     ]
    },
    {
     "data": {
      "text/plain": [
       "tensor([0.5329, 0.2720, 0.5852, 0.3259], device='cuda:0',\n",
       "       grad_fn=<SelectBackward0>)"
      ]
     },
     "execution_count": 121,
     "metadata": {},
     "output_type": "execute_result"
    }
   ],
   "source": [
    "print(pbbox.size())\n",
    "pbbox[3]"
   ]
  },
  {
   "cell_type": "code",
   "execution_count": 122,
   "metadata": {},
   "outputs": [
    {
     "data": {
      "text/plain": [
       "tensor([159.8781,  81.5920, 175.5604,  97.7705], device='cuda:0',\n",
       "       grad_fn=<SelectBackward0>)"
      ]
     },
     "execution_count": 122,
     "metadata": {},
     "output_type": "execute_result"
    }
   ],
   "source": [
    "pbbox=(pbbox/scale)*229\n",
    "pbbox[3]"
   ]
  },
  {
   "cell_type": "markdown",
   "metadata": {},
   "source": [
    "# Tensorboard"
   ]
  },
  {
   "cell_type": "code",
   "execution_count": 123,
   "metadata": {},
   "outputs": [],
   "source": [
    "from torch.utils.tensorboard import SummaryWriter\n",
    "writer=SummaryWriter(log_dir='log/mnist')\n",
    "\n",
    "for i in range (len(images)): \n",
    "    writer.add_image_with_boxes(tag='images',\n",
    "                                img_tensor=images[i],\n",
    "                                box_tensor=pbbox[i].unsqueeze(0),\n",
    "                                global_step=i,\n",
    "                                labels=str(score[i].argmax().item()))\n",
    "writer.flush()\n",
    "writer.close()\n",
    "\n"
   ]
  },
  {
   "cell_type": "markdown",
   "metadata": {},
   "source": [
    "# Test dataloader"
   ]
  },
  {
   "cell_type": "code",
   "execution_count": 124,
   "metadata": {},
   "outputs": [
    {
     "name": "stdout",
     "output_type": "stream",
     "text": [
      "torch.Size([16, 1, 229, 229])\n"
     ]
    }
   ],
   "source": [
    "writer=SummaryWriter(log_dir='log2/mnist')\n",
    "images,_,_,size=next(iter(test_dl))\n",
    "print(images.size())\n",
    "images=images.to(device)\n",
    "score,pbbox=model(images)\n",
    "pbbox=(pbbox/scale)*229\n",
    "\n",
    "for i in range (len(images)): \n",
    "    writer.add_image_with_boxes(tag='test_images',\n",
    "                                img_tensor=images[i],\n",
    "                                box_tensor=pbbox[i].unsqueeze(0),\n",
    "                                global_step=i,\n",
    "                                labels=str(score[i].argmax().item()))\n",
    "writer.flush()\n",
    "writer.close()"
   ]
  }
 ],
 "metadata": {
  "kernelspec": {
   "display_name": "base",
   "language": "python",
   "name": "python3"
  },
  "language_info": {
   "codemirror_mode": {
    "name": "ipython",
    "version": 3
   },
   "file_extension": ".py",
   "mimetype": "text/x-python",
   "name": "python",
   "nbconvert_exporter": "python",
   "pygments_lexer": "ipython3",
   "version": "3.9.13"
  }
 },
 "nbformat": 4,
 "nbformat_minor": 2
}
