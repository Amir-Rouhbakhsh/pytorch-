{
 "cells": [
  {
   "cell_type": "code",
   "execution_count": 34,
   "metadata": {},
   "outputs": [],
   "source": [
    "import torch\n",
    "import matplotlib.pyplot as plt \n",
    "from torchvision.datasets import FashionMNIST\n",
    "from torchvision.transforms import ToTensor\n",
    "import PIL\n",
    "import numpy as np"
   ]
  },
  {
   "cell_type": "markdown",
   "metadata": {},
   "source": [
    "# downloading the training data"
   ]
  },
  {
   "cell_type": "code",
   "execution_count": 17,
   "metadata": {},
   "outputs": [],
   "source": [
    "    training_data=FashionMNIST(\n",
    "        root=\"data\",\n",
    "        train=True,\n",
    "        download=True,\n",
    "        transform=ToTensor()\n",
    "\n",
    "\n",
    "    )"
   ]
  },
  {
   "cell_type": "code",
   "execution_count": 6,
   "metadata": {},
   "outputs": [
    {
     "name": "stdout",
     "output_type": "stream",
     "text": [
      "Dataset FashionMNIST\n",
      "    Number of datapoints: 60000\n",
      "    Root location: data\n",
      "    Split: Train\n",
      "    StandardTransform\n",
      "Transform: ToTensor()\n",
      "torch.Size([60000, 28, 28])\n",
      "tensor([9, 0, 0,  ..., 3, 0, 5])\n",
      "['T-shirt/top', 'Trouser', 'Pullover', 'Dress', 'Coat', 'Sandal', 'Shirt', 'Sneaker', 'Bag', 'Ankle boot']\n",
      "{'T-shirt/top': 0, 'Trouser': 1, 'Pullover': 2, 'Dress': 3, 'Coat': 4, 'Sandal': 5, 'Shirt': 6, 'Sneaker': 7, 'Bag': 8, 'Ankle boot': 9}\n"
     ]
    }
   ],
   "source": [
    "print(training_data)\n",
    "print(training_data.data.shape)\n",
    "print(training_data.targets)\n",
    "print(training_data.classes)\n",
    "print(training_data.class_to_idx)"
   ]
  },
  {
   "cell_type": "code",
   "execution_count": 14,
   "metadata": {},
   "outputs": [
    {
     "name": "stdout",
     "output_type": "stream",
     "text": [
      "2\n",
      "image is tensor([[[0.0000, 0.0000, 0.0000, 0.0000, 0.0000, 0.0000, 0.0000, 0.0000,\n",
      "          0.0000, 0.0000, 0.0000, 0.0000, 0.0000, 0.0000, 0.0000, 0.0000,\n",
      "          0.0000, 0.0000, 0.0000, 0.0000, 0.0000, 0.0000, 0.0000, 0.0000,\n",
      "          0.0000, 0.0000, 0.0000, 0.0000],\n",
      "         [0.0000, 0.0000, 0.0000, 0.0000, 0.0000, 0.0000, 0.0000, 0.0000,\n",
      "          0.0000, 0.0000, 0.0000, 0.0000, 0.0000, 0.0000, 0.0000, 0.0000,\n",
      "          0.0000, 0.0000, 0.0000, 0.0000, 0.0000, 0.0000, 0.0000, 0.0000,\n",
      "          0.0000, 0.0000, 0.0000, 0.0000],\n",
      "         [0.0000, 0.0000, 0.0000, 0.0000, 0.0000, 0.0000, 0.0000, 0.0000,\n",
      "          0.0000, 0.0000, 0.0000, 0.0000, 0.0000, 0.0000, 0.0000, 0.0000,\n",
      "          0.0000, 0.0000, 0.0000, 0.0000, 0.0000, 0.0000, 0.0000, 0.0000,\n",
      "          0.0000, 0.0000, 0.0000, 0.0000],\n",
      "         [0.0000, 0.0000, 0.0000, 0.0000, 0.0000, 0.0000, 0.0000, 0.0000,\n",
      "          0.0000, 0.0000, 0.0000, 0.0000, 0.0039, 0.0000, 0.0000, 0.0510,\n",
      "          0.2863, 0.0000, 0.0000, 0.0039, 0.0157, 0.0000, 0.0000, 0.0000,\n",
      "          0.0000, 0.0039, 0.0039, 0.0000],\n",
      "         [0.0000, 0.0000, 0.0000, 0.0000, 0.0000, 0.0000, 0.0000, 0.0000,\n",
      "          0.0000, 0.0000, 0.0000, 0.0000, 0.0118, 0.0000, 0.1412, 0.5333,\n",
      "          0.4980, 0.2431, 0.2118, 0.0000, 0.0000, 0.0000, 0.0039, 0.0118,\n",
      "          0.0157, 0.0000, 0.0000, 0.0118],\n",
      "         [0.0000, 0.0000, 0.0000, 0.0000, 0.0000, 0.0000, 0.0000, 0.0000,\n",
      "          0.0000, 0.0000, 0.0000, 0.0000, 0.0235, 0.0000, 0.4000, 0.8000,\n",
      "          0.6902, 0.5255, 0.5647, 0.4824, 0.0902, 0.0000, 0.0000, 0.0000,\n",
      "          0.0000, 0.0471, 0.0392, 0.0000],\n",
      "         [0.0000, 0.0000, 0.0000, 0.0000, 0.0000, 0.0000, 0.0000, 0.0000,\n",
      "          0.0000, 0.0000, 0.0000, 0.0000, 0.0000, 0.0000, 0.6078, 0.9255,\n",
      "          0.8118, 0.6980, 0.4196, 0.6118, 0.6314, 0.4275, 0.2510, 0.0902,\n",
      "          0.3020, 0.5098, 0.2824, 0.0588],\n",
      "         [0.0000, 0.0000, 0.0000, 0.0000, 0.0000, 0.0000, 0.0000, 0.0000,\n",
      "          0.0000, 0.0000, 0.0000, 0.0039, 0.0000, 0.2706, 0.8118, 0.8745,\n",
      "          0.8549, 0.8471, 0.8471, 0.6392, 0.4980, 0.4745, 0.4784, 0.5725,\n",
      "          0.5529, 0.3451, 0.6745, 0.2588],\n",
      "         [0.0000, 0.0000, 0.0000, 0.0000, 0.0000, 0.0000, 0.0000, 0.0000,\n",
      "          0.0000, 0.0039, 0.0039, 0.0039, 0.0000, 0.7843, 0.9098, 0.9098,\n",
      "          0.9137, 0.8980, 0.8745, 0.8745, 0.8431, 0.8353, 0.6431, 0.4980,\n",
      "          0.4824, 0.7686, 0.8980, 0.0000],\n",
      "         [0.0000, 0.0000, 0.0000, 0.0000, 0.0000, 0.0000, 0.0000, 0.0000,\n",
      "          0.0000, 0.0000, 0.0000, 0.0000, 0.0000, 0.7176, 0.8824, 0.8471,\n",
      "          0.8745, 0.8941, 0.9216, 0.8902, 0.8784, 0.8706, 0.8784, 0.8667,\n",
      "          0.8745, 0.9608, 0.6784, 0.0000],\n",
      "         [0.0000, 0.0000, 0.0000, 0.0000, 0.0000, 0.0000, 0.0000, 0.0000,\n",
      "          0.0000, 0.0000, 0.0000, 0.0000, 0.0000, 0.7569, 0.8941, 0.8549,\n",
      "          0.8353, 0.7765, 0.7059, 0.8314, 0.8235, 0.8275, 0.8353, 0.8745,\n",
      "          0.8627, 0.9529, 0.7922, 0.0000],\n",
      "         [0.0000, 0.0000, 0.0000, 0.0000, 0.0000, 0.0000, 0.0000, 0.0000,\n",
      "          0.0000, 0.0039, 0.0118, 0.0000, 0.0471, 0.8588, 0.8627, 0.8314,\n",
      "          0.8549, 0.7529, 0.6627, 0.8902, 0.8157, 0.8549, 0.8784, 0.8314,\n",
      "          0.8863, 0.7725, 0.8196, 0.2039],\n",
      "         [0.0000, 0.0000, 0.0000, 0.0000, 0.0000, 0.0000, 0.0000, 0.0000,\n",
      "          0.0000, 0.0000, 0.0235, 0.0000, 0.3882, 0.9569, 0.8706, 0.8627,\n",
      "          0.8549, 0.7961, 0.7765, 0.8667, 0.8431, 0.8353, 0.8706, 0.8627,\n",
      "          0.9608, 0.4667, 0.6549, 0.2196],\n",
      "         [0.0000, 0.0000, 0.0000, 0.0000, 0.0000, 0.0000, 0.0000, 0.0000,\n",
      "          0.0000, 0.0157, 0.0000, 0.0000, 0.2157, 0.9255, 0.8941, 0.9020,\n",
      "          0.8941, 0.9412, 0.9098, 0.8353, 0.8549, 0.8745, 0.9176, 0.8510,\n",
      "          0.8510, 0.8196, 0.3608, 0.0000],\n",
      "         [0.0000, 0.0000, 0.0039, 0.0157, 0.0235, 0.0275, 0.0078, 0.0000,\n",
      "          0.0000, 0.0000, 0.0000, 0.0000, 0.9294, 0.8863, 0.8510, 0.8745,\n",
      "          0.8706, 0.8588, 0.8706, 0.8667, 0.8471, 0.8745, 0.8980, 0.8431,\n",
      "          0.8549, 1.0000, 0.3020, 0.0000],\n",
      "         [0.0000, 0.0118, 0.0000, 0.0000, 0.0000, 0.0000, 0.0000, 0.0000,\n",
      "          0.0000, 0.2431, 0.5686, 0.8000, 0.8941, 0.8118, 0.8353, 0.8667,\n",
      "          0.8549, 0.8157, 0.8275, 0.8549, 0.8784, 0.8745, 0.8588, 0.8431,\n",
      "          0.8784, 0.9569, 0.6235, 0.0000],\n",
      "         [0.0000, 0.0000, 0.0000, 0.0000, 0.0706, 0.1725, 0.3216, 0.4196,\n",
      "          0.7412, 0.8941, 0.8627, 0.8706, 0.8510, 0.8863, 0.7843, 0.8039,\n",
      "          0.8275, 0.9020, 0.8784, 0.9176, 0.6902, 0.7373, 0.9804, 0.9725,\n",
      "          0.9137, 0.9333, 0.8431, 0.0000],\n",
      "         [0.0000, 0.2235, 0.7333, 0.8157, 0.8784, 0.8667, 0.8784, 0.8157,\n",
      "          0.8000, 0.8392, 0.8157, 0.8196, 0.7843, 0.6235, 0.9608, 0.7569,\n",
      "          0.8078, 0.8745, 1.0000, 1.0000, 0.8667, 0.9176, 0.8667, 0.8275,\n",
      "          0.8627, 0.9098, 0.9647, 0.0000],\n",
      "         [0.0118, 0.7922, 0.8941, 0.8784, 0.8667, 0.8275, 0.8275, 0.8392,\n",
      "          0.8039, 0.8039, 0.8039, 0.8627, 0.9412, 0.3137, 0.5882, 1.0000,\n",
      "          0.8980, 0.8667, 0.7373, 0.6039, 0.7490, 0.8235, 0.8000, 0.8196,\n",
      "          0.8706, 0.8941, 0.8824, 0.0000],\n",
      "         [0.3843, 0.9137, 0.7765, 0.8235, 0.8706, 0.8980, 0.8980, 0.9176,\n",
      "          0.9765, 0.8627, 0.7608, 0.8431, 0.8510, 0.9451, 0.2549, 0.2863,\n",
      "          0.4157, 0.4588, 0.6588, 0.8588, 0.8667, 0.8431, 0.8510, 0.8745,\n",
      "          0.8745, 0.8784, 0.8980, 0.1137],\n",
      "         [0.2941, 0.8000, 0.8314, 0.8000, 0.7569, 0.8039, 0.8275, 0.8824,\n",
      "          0.8471, 0.7255, 0.7725, 0.8078, 0.7765, 0.8353, 0.9412, 0.7647,\n",
      "          0.8902, 0.9608, 0.9373, 0.8745, 0.8549, 0.8314, 0.8196, 0.8706,\n",
      "          0.8627, 0.8667, 0.9020, 0.2627],\n",
      "         [0.1882, 0.7961, 0.7176, 0.7608, 0.8353, 0.7725, 0.7255, 0.7451,\n",
      "          0.7608, 0.7529, 0.7922, 0.8392, 0.8588, 0.8667, 0.8627, 0.9255,\n",
      "          0.8824, 0.8471, 0.7804, 0.8078, 0.7294, 0.7098, 0.6941, 0.6745,\n",
      "          0.7098, 0.8039, 0.8078, 0.4510],\n",
      "         [0.0000, 0.4784, 0.8588, 0.7569, 0.7020, 0.6706, 0.7176, 0.7686,\n",
      "          0.8000, 0.8235, 0.8353, 0.8118, 0.8275, 0.8235, 0.7843, 0.7686,\n",
      "          0.7608, 0.7490, 0.7647, 0.7490, 0.7765, 0.7529, 0.6902, 0.6118,\n",
      "          0.6549, 0.6941, 0.8235, 0.3608],\n",
      "         [0.0000, 0.0000, 0.2902, 0.7412, 0.8314, 0.7490, 0.6863, 0.6745,\n",
      "          0.6863, 0.7098, 0.7255, 0.7373, 0.7412, 0.7373, 0.7569, 0.7765,\n",
      "          0.8000, 0.8196, 0.8235, 0.8235, 0.8275, 0.7373, 0.7373, 0.7608,\n",
      "          0.7529, 0.8471, 0.6667, 0.0000],\n",
      "         [0.0078, 0.0000, 0.0000, 0.0000, 0.2588, 0.7843, 0.8706, 0.9294,\n",
      "          0.9373, 0.9490, 0.9647, 0.9529, 0.9569, 0.8667, 0.8627, 0.7569,\n",
      "          0.7490, 0.7020, 0.7137, 0.7137, 0.7098, 0.6902, 0.6510, 0.6588,\n",
      "          0.3882, 0.2275, 0.0000, 0.0000],\n",
      "         [0.0000, 0.0000, 0.0000, 0.0000, 0.0000, 0.0000, 0.0000, 0.1569,\n",
      "          0.2392, 0.1725, 0.2824, 0.1608, 0.1373, 0.0000, 0.0000, 0.0000,\n",
      "          0.0000, 0.0000, 0.0000, 0.0000, 0.0000, 0.0000, 0.0000, 0.0000,\n",
      "          0.0000, 0.0000, 0.0000, 0.0000],\n",
      "         [0.0000, 0.0000, 0.0000, 0.0000, 0.0000, 0.0000, 0.0000, 0.0000,\n",
      "          0.0000, 0.0000, 0.0000, 0.0000, 0.0000, 0.0000, 0.0000, 0.0000,\n",
      "          0.0000, 0.0000, 0.0000, 0.0000, 0.0000, 0.0000, 0.0000, 0.0000,\n",
      "          0.0000, 0.0000, 0.0000, 0.0000],\n",
      "         [0.0000, 0.0000, 0.0000, 0.0000, 0.0000, 0.0000, 0.0000, 0.0000,\n",
      "          0.0000, 0.0000, 0.0000, 0.0000, 0.0000, 0.0000, 0.0000, 0.0000,\n",
      "          0.0000, 0.0000, 0.0000, 0.0000, 0.0000, 0.0000, 0.0000, 0.0000,\n",
      "          0.0000, 0.0000, 0.0000, 0.0000]]]) \n",
      " and label is 9\n"
     ]
    }
   ],
   "source": [
    "print(len(training_data[0]))\n",
    "img,label= training_data[0]\n",
    "print(f'image is {img} \\n and label is {label}')"
   ]
  },
  {
   "cell_type": "markdown",
   "metadata": {},
   "source": [
    "# Downloading the test set"
   ]
  },
  {
   "cell_type": "code",
   "execution_count": 16,
   "metadata": {},
   "outputs": [],
   "source": [
    "test_data=FashionMNIST(\n",
    "    root=\"data\",\n",
    "    train=False,\n",
    "    download=True,\n",
    "    transform=ToTensor()\n",
    "\n",
    "\n",
    ")"
   ]
  },
  {
   "cell_type": "code",
   "execution_count": 18,
   "metadata": {},
   "outputs": [
    {
     "name": "stdout",
     "output_type": "stream",
     "text": [
      "torch.Size([10000, 28, 28])\n"
     ]
    }
   ],
   "source": [
    "print(test_data.data.shape)"
   ]
  },
  {
   "cell_type": "markdown",
   "metadata": {},
   "source": [
    "## Visualizing FashionMNIST"
   ]
  },
  {
   "cell_type": "code",
   "execution_count": 21,
   "metadata": {},
   "outputs": [
    {
     "data": {
      "image/png": "[encoded data removed]",
      "text/plain": [
       "<Figure size 700x700 with 9 Axes>"
      ]
     },
     "metadata": {},
     "output_type": "display_data"
    }
   ],
   "source": [
    "labels_map = {\n",
    "    0: \"T-Shirt\",\n",
    "    1: \"Trouser\",\n",
    "    2: \"Pullover\",\n",
    "    3: \"Dress\",\n",
    "    4: \"Coat\",\n",
    "    5: \"Sandal\",\n",
    "    6: \"Shirt\",\n",
    "    7: \"Sneaker\",\n",
    "    8: \"Bag\",\n",
    "    9: \"Ankle Boot\",\n",
    "}\n",
    "figure = plt.figure(figsize=(7, 7))\n",
    "\n",
    "cols, rows = 3, 3\n",
    "\n",
    "for i in range(1, cols * rows + 1):\n",
    "    sample_idx = torch.randint(len(training_data), size=(1,)).item()\n",
    "    img, label = training_data[sample_idx]\n",
    "    figure.add_subplot(rows, cols, i)\n",
    "    plt.title(labels_map[label])\n",
    "    plt.axis(\"off\")\n",
    "    plt.imshow(img.squeeze(), cmap='binary')\n",
    "plt.show()"
   ]
  },
  {
   "cell_type": "markdown",
   "metadata": {},
   "source": [
    "## DataLoader"
   ]
  },
  {
   "cell_type": "code",
   "execution_count": 22,
   "metadata": {},
   "outputs": [],
   "source": [
    "from torch.utils.data import DataLoader\n",
    "training_dataloader =DataLoader(training_data, batch_size=32, shuffle=True)\n",
    "test_dataloader= DataLoader(test_data, batch_size=32, shuffle=True)\n"
   ]
  },
  {
   "cell_type": "code",
   "execution_count": 41,
   "metadata": {},
   "outputs": [
    {
     "name": "stdout",
     "output_type": "stream",
     "text": [
      "Features batch size: torch.Size([32, 1, 28, 28])\n",
      "Labels shape: torch.Size([32])\n"
     ]
    }
   ],
   "source": [
    "train_features, train_labels = next(iter(training_dataloader))\n",
    "print(f\"Features batch size: {train_features.size()}\")\n",
    "print(f\"Labels shape: {train_labels.size()}\")\n"
   ]
  },
  {
   "cell_type": "code",
   "execution_count": 42,
   "metadata": {},
   "outputs": [
    {
     "name": "stdout",
     "output_type": "stream",
     "text": [
      "Label: 1\n"
     ]
    },
    {
     "data": {
      "image/png": "[encoded data removed]",
      "text/plain": [
       "<Figure size 640x480 with 1 Axes>"
      ]
     },
     "metadata": {},
     "output_type": "display_data"
    }
   ],
   "source": [
    "image = train_features[10].squeeze()\n",
    "plt.imshow(image, cmap='gray')\n",
    "print(f\"Label: {train_labels[10]}\")"
   ]
  },
  {
   "cell_type": "markdown",
   "metadata": {},
   "source": [
    "# **Getting training device**"
   ]
  },
  {
   "cell_type": "code",
   "execution_count": 43,
   "metadata": {},
   "outputs": [
    {
     "name": "stdout",
     "output_type": "stream",
     "text": [
      "cuda is available.\n"
     ]
    }
   ],
   "source": [
    "device = 'cuda' if torch.cuda.is_available() else 'cpu'\n",
    "print(f\"{device} is available.\")"
   ]
  },
  {
   "cell_type": "markdown",
   "metadata": {},
   "source": [
    "# **Defining the Model**"
   ]
  },
  {
   "cell_type": "markdown",
   "metadata": {},
   "source": [
    "**Model's architecture:**\n",
    "\n",
    "Three layers:\n",
    "* `Fully-connected Layer_1 --> (784, 64)`\n",
    "* `Fully-connected Layer_2 --> (64, 64)`\n",
    "* `Fully-connected Layer_3 --> (64, 10)`\n",
    "\n"
   ]
  },
  {
   "cell_type": "code",
   "execution_count": 44,
   "metadata": {},
   "outputs": [],
   "source": [
    "import torch.nn as nn\n",
    "import torch.nn.functional as F"
   ]
  },
  {
   "cell_type": "markdown",
   "metadata": {},
   "source": [
    "There are two different ways to define the model"
   ]
  },
  {
   "cell_type": "markdown",
   "metadata": {},
   "source": [
    "# Version 1"
   ]
  },
  {
   "cell_type": "code",
   "execution_count": 65,
   "metadata": {},
   "outputs": [],
   "source": [
    "class SimpleNN(nn.Module):\n",
    "\n",
    "    def __init__(self):\n",
    "        super().__init__()\n",
    "        self.fc1 = nn.Linear(in_features=784, out_features=64)\n",
    "        self.fc2 = nn.Linear(in_features=64, out_features=64)\n",
    "        self.fc3 = nn.Linear(in_features=64, out_features=10)\n",
    "\n",
    "    def forward(self, x):\n",
    "        x = x.view(-1, 784)\n",
    "        x = F.relu(self.fc1(x))\n",
    "        x = F.relu(self.fc2(x))\n",
    "        x = F.softmax(self.fc3(x), dim=1)\n",
    "        return x\n",
    "\n",
    "    "
   ]
  },
  {
   "cell_type": "code",
   "execution_count": 66,
   "metadata": {},
   "outputs": [
    {
     "data": {
      "text/plain": [
       "SimpleNN(\n",
       "  (fc1): Linear(in_features=784, out_features=64, bias=True)\n",
       "  (fc2): Linear(in_features=64, out_features=64, bias=True)\n",
       "  (fc3): Linear(in_features=64, out_features=10, bias=True)\n",
       ")"
      ]
     },
     "execution_count": 66,
     "metadata": {},
     "output_type": "execute_result"
    }
   ],
   "source": [
    "model1 = SimpleNN()\n",
    "model1"
   ]
  },
  {
   "cell_type": "markdown",
   "metadata": {},
   "source": [
    "# Version 2"
   ]
  },
  {
   "cell_type": "markdown",
   "metadata": {},
   "source": [
    "in this version we dont add the softmax at the output of model after getting the result we apply softmax "
   ]
  },
  {
   "cell_type": "code",
   "execution_count": 69,
   "metadata": {},
   "outputs": [],
   "source": [
    "class SimpleNNVersionTwo(nn.Module):\n",
    "\n",
    "    def __init__(self):\n",
    "        super().__init__()\n",
    "        self.flatten = nn.Flatten()\n",
    "        self.sequential = nn.Sequential(\n",
    "            nn.Linear(in_features=784, out_features=64),\n",
    "            nn.ReLU(),\n",
    "            nn.Linear(in_features=64, out_features=64),\n",
    "            nn.ReLU(),\n",
    "            nn.Linear(in_features=64, out_features=10)\n",
    "        )\n",
    "\n",
    "    def forward(self, x):\n",
    "        x = self.flatten(x)\n",
    "        x = self.sequential(x)\n",
    "        return x\n"
   ]
  },
  {
   "cell_type": "code",
   "execution_count": 70,
   "metadata": {},
   "outputs": [
    {
     "data": {
      "text/plain": [
       "SimpleNNVersionTwo(\n",
       "  (flatten): Flatten(start_dim=1, end_dim=-1)\n",
       "  (sequential): Sequential(\n",
       "    (0): Linear(in_features=784, out_features=64, bias=True)\n",
       "    (1): ReLU()\n",
       "    (2): Linear(in_features=64, out_features=64, bias=True)\n",
       "    (3): ReLU()\n",
       "    (4): Linear(in_features=64, out_features=10, bias=True)\n",
       "  )\n",
       ")"
      ]
     },
     "execution_count": 70,
     "metadata": {},
     "output_type": "execute_result"
    }
   ],
   "source": [
    "model2 = SimpleNNVersionTwo()\n",
    "model2"
   ]
  },
  {
   "cell_type": "markdown",
   "metadata": {},
   "source": [
    "we create a sample random with the same size of our image 1*28*28 to show that the out put of these models are the same but we have to apply softmax at the out put of the second version"
   ]
  },
  {
   "cell_type": "code",
   "execution_count": 71,
   "metadata": {},
   "outputs": [],
   "source": [
    "sample = torch.rand(1, 28, 28)"
   ]
  },
  {
   "cell_type": "markdown",
   "metadata": {},
   "source": [
    "version 1"
   ]
  },
  {
   "cell_type": "code",
   "execution_count": 72,
   "metadata": {},
   "outputs": [
    {
     "data": {
      "text/plain": [
       "tensor([9])"
      ]
     },
     "execution_count": 72,
     "metadata": {},
     "output_type": "execute_result"
    }
   ],
   "source": [
    "results = model1(sample)\n",
    "pred = results.argmax(dim=1)\n",
    "pred"
   ]
  },
  {
   "cell_type": "markdown",
   "metadata": {},
   "source": [
    "version 2"
   ]
  },
  {
   "cell_type": "code",
   "execution_count": 79,
   "metadata": {},
   "outputs": [
    {
     "name": "stdout",
     "output_type": "stream",
     "text": [
      "Predicted class: tensor([0])\n"
     ]
    }
   ],
   "source": [
    "logits = model2(sample)\n",
    "pred_probab = nn.Softmax(dim=1)(logits)\n",
    "pred = pred_probab.argmax(dim=1)\n",
    "\n",
    "print(f\"Predicted class: {pred}\")"
   ]
  },
  {
   "cell_type": "code",
   "execution_count": 81,
   "metadata": {},
   "outputs": [
    {
     "name": "stdout",
     "output_type": "stream",
     "text": [
      "Layer: sequential.0.weight || Size: torch.Size([64, 784]) || Values: tensor([[ 0.0157, -0.0325, -0.0001,  ...,  0.0334, -0.0108, -0.0240],\n",
      "        [ 0.0282,  0.0081, -0.0167,  ...,  0.0139,  0.0223,  0.0239]],\n",
      "       grad_fn=<SliceBackward0>) \n",
      "\n",
      "Layer: sequential.0.bias || Size: torch.Size([64]) || Values: tensor([-0.0183,  0.0197], grad_fn=<SliceBackward0>) \n",
      "\n",
      "Layer: sequential.2.weight || Size: torch.Size([64, 64]) || Values: tensor([[-0.0031,  0.1047, -0.0463,  0.0829, -0.1243, -0.0860, -0.0346, -0.0621,\n",
      "         -0.0938, -0.0876, -0.0061,  0.0328, -0.0623, -0.0544, -0.1060,  0.0253,\n",
      "          0.1033,  0.0317,  0.0166,  0.1178,  0.0983, -0.1162, -0.0102, -0.0056,\n",
      "         -0.0236,  0.0036, -0.1101, -0.0224,  0.0786,  0.0159, -0.1038, -0.0492,\n",
      "         -0.0062, -0.0590, -0.0734, -0.0633, -0.0848, -0.0486, -0.0396, -0.0181,\n",
      "         -0.1008, -0.1007,  0.0963,  0.1147,  0.0493,  0.0581,  0.1246,  0.1065,\n",
      "          0.0489,  0.0204, -0.1058,  0.1028, -0.0322,  0.1004,  0.0951, -0.0836,\n",
      "          0.0012,  0.0056,  0.0357,  0.0769, -0.0195, -0.0023, -0.0943,  0.0984],\n",
      "        [-0.0533, -0.0427, -0.1110, -0.0387,  0.1077,  0.0926,  0.1217,  0.0206,\n",
      "          0.0484, -0.1155,  0.0137,  0.0491,  0.0548,  0.0511,  0.0368, -0.1234,\n",
      "         -0.0062,  0.0829,  0.0552,  0.0929,  0.0939,  0.0619, -0.0014, -0.0867,\n",
      "          0.1085, -0.0093,  0.0826,  0.0677, -0.1235, -0.0074,  0.0180,  0.0385,\n",
      "         -0.0837,  0.0225,  0.0489,  0.0841, -0.0452, -0.0451, -0.0208,  0.0403,\n",
      "         -0.0148, -0.0207, -0.0024,  0.0952,  0.0574, -0.0690,  0.0015,  0.1206,\n",
      "         -0.0786, -0.0160, -0.0933, -0.0563,  0.0629,  0.1060, -0.1088,  0.1159,\n",
      "          0.0424, -0.0214,  0.0591,  0.0231,  0.0669, -0.0480, -0.0097,  0.0460]],\n",
      "       grad_fn=<SliceBackward0>) \n",
      "\n",
      "Layer: sequential.2.bias || Size: torch.Size([64]) || Values: tensor([0.0085, 0.1091], grad_fn=<SliceBackward0>) \n",
      "\n",
      "Layer: sequential.4.weight || Size: torch.Size([10, 64]) || Values: tensor([[-7.5627e-02, -2.1154e-02,  1.2066e-01,  6.1087e-03,  1.0688e-01,\n",
      "         -4.7468e-02, -3.2213e-02, -1.8265e-02, -7.9183e-02,  8.0555e-02,\n",
      "          1.0783e-01, -8.9419e-02,  6.9666e-02,  4.9429e-02,  1.1607e-01,\n",
      "         -3.0032e-02,  5.4790e-03,  4.1139e-02, -6.3882e-02, -9.1166e-02,\n",
      "          1.1222e-01,  3.0262e-02,  9.4270e-02,  8.6856e-02,  4.4906e-03,\n",
      "         -1.6623e-02,  1.0587e-01, -1.2594e-02, -1.2333e-01,  4.1877e-03,\n",
      "         -7.8731e-02, -2.6255e-02,  1.1506e-01,  4.6371e-02, -3.6500e-02,\n",
      "         -9.4328e-02,  7.0545e-02, -6.6038e-02, -7.3651e-02,  4.3906e-02,\n",
      "         -1.3325e-02, -7.0329e-02, -7.2036e-02, -4.5921e-02,  1.0194e-04,\n",
      "          8.0933e-02,  2.1815e-02, -8.3272e-02,  2.7281e-02, -2.8870e-02,\n",
      "          5.1913e-02,  6.8353e-02,  4.8707e-02, -6.1422e-03, -5.2388e-02,\n",
      "          1.0840e-01,  9.4029e-02, -1.1709e-01,  9.1509e-02, -1.2060e-01,\n",
      "          1.9682e-02,  5.2284e-03, -2.6969e-02, -1.2247e-01],\n",
      "        [-9.0962e-02,  1.0513e-01,  8.1032e-02, -9.5181e-02, -9.3087e-02,\n",
      "          1.2447e-01,  6.9057e-02,  2.8055e-02, -1.9744e-02,  3.0976e-02,\n",
      "         -1.2020e-01,  1.1064e-01,  1.2334e-01, -6.6486e-02,  6.5130e-02,\n",
      "          1.0200e-01,  9.3706e-02, -9.9824e-02, -1.1047e-01,  9.8130e-02,\n",
      "         -9.6082e-03,  1.2122e-01,  7.1599e-02, -1.1925e-01, -1.1928e-01,\n",
      "          3.5514e-02, -8.6401e-02, -1.0070e-01,  6.1609e-02,  1.5864e-02,\n",
      "          1.2402e-01, -6.6413e-02,  4.2462e-02,  2.3562e-02,  7.3722e-03,\n",
      "         -1.1548e-01,  9.5088e-02,  4.3174e-02,  8.3853e-02,  1.2053e-01,\n",
      "         -4.4755e-03,  8.6699e-02, -9.7740e-02, -3.9167e-02,  5.8320e-02,\n",
      "          1.0602e-01,  3.0085e-02, -7.7546e-02,  1.5515e-04, -4.1450e-02,\n",
      "          1.0900e-01, -5.0850e-02, -7.1625e-02,  1.1384e-01,  1.1422e-02,\n",
      "          3.8001e-02,  1.2011e-01,  1.0965e-01,  7.2821e-02, -6.4525e-02,\n",
      "         -4.4766e-03, -3.4324e-02,  2.6701e-02, -2.7349e-02]],\n",
      "       grad_fn=<SliceBackward0>) \n",
      "\n",
      "Layer: sequential.4.bias || Size: torch.Size([10]) || Values: tensor([ 0.1122, -0.0042], grad_fn=<SliceBackward0>) \n",
      "\n"
     ]
    }
   ],
   "source": [
    "for name, param in model2.named_parameters():\n",
    "    print(f\"Layer: {name} || Size: {param.size()} || Values: {param[:2]} \\n\")"
   ]
  },
  {
   "cell_type": "markdown",
   "metadata": {},
   "source": [
    "# **Setting Loss Function**\n"
   ]
  },
  {
   "cell_type": "markdown",
   "metadata": {},
   "source": [
    "in the crossentropy loss , softmax was implemented , if you used this loss function you dont need to apply softmax"
   ]
  },
  {
   "cell_type": "code",
   "execution_count": 82,
   "metadata": {},
   "outputs": [],
   "source": [
    "# loss function = criterion\n",
    "loss_fn = nn.CrossEntropyLoss() "
   ]
  },
  {
   "cell_type": "markdown",
   "metadata": {},
   "source": [
    "# **Setting Hyperparameters**"
   ]
  },
  {
   "cell_type": "code",
   "execution_count": 91,
   "metadata": {},
   "outputs": [],
   "source": [
    "learning_rate = 1e-3\n",
    "batch_size = 64\n",
    "n_epochs = 25"
   ]
  },
  {
   "cell_type": "markdown",
   "metadata": {},
   "source": [
    "# **Setting the Optimizer**"
   ]
  },
  {
   "cell_type": "code",
   "execution_count": 86,
   "metadata": {},
   "outputs": [],
   "source": [
    "import torch.optim as optim\n",
    "optimizer = optim.SGD(model2.parameters(), lr=learning_rate)"
   ]
  },
  {
   "cell_type": "markdown",
   "metadata": {},
   "source": [
    "# **Optimization Loop**"
   ]
  },
  {
   "cell_type": "code",
   "execution_count": 87,
   "metadata": {},
   "outputs": [],
   "source": [
    "def train(dataloader, model, loss_fn, optimizer):\n",
    "    for batch, (X, y) in enumerate(dataloader):\n",
    "\n",
    "        # generate predictions\n",
    "        pred = model(X)\n",
    "\n",
    "        # calculate loss\n",
    "        loss = loss_fn(pred, y)\n",
    "\n",
    "        # reset gradients\n",
    "        optimizer.zero_grad()\n",
    "\n",
    "        # compute gradients\n",
    "        loss.backward()\n",
    "\n",
    "        # update parameters w, b\n",
    "        optimizer.step()\n",
    "\n",
    "        if batch % 100 == 0:\n",
    "            loss = loss.item()\n",
    "            current = batch * len(X)\n",
    "            print(f\"Loss: {loss:>.4f} --- [{current:>5d}] out of {len(dataloader.dataset):>5d}\")\n",
    "\n",
    "\n",
    "def test(dataloader, model, loss_fn):\n",
    "    test_loss = 0\n",
    "    correct = 0\n",
    "\n",
    "    with torch.no_grad():\n",
    "        for X, y in dataloader:\n",
    "\n",
    "            pred = model(X) \n",
    "\n",
    "            loss = loss_fn(pred, y)\n",
    "\n",
    "            test_loss += loss.item()\n",
    "            correct += (pred.argmax(dim=1) == y).type(torch.float).sum().item()\n",
    "\n",
    "        test_loss /= len(dataloader.dataset)\n",
    "        correct /= len(dataloader.dataset)\n",
    "\n",
    "        print(f\"\\nResults: Accuracy: {(100 * correct):>0.1f}%, Average Loss: {test_loss:>8f} \\n\")"
   ]
  },
  {
   "cell_type": "code",
   "execution_count": 92,
   "metadata": {},
   "outputs": [
    {
     "name": "stdout",
     "output_type": "stream",
     "text": [
      "[Epoch 1]\n",
      "\n",
      "Loss: 0.6119 --- [    0] out of 60000\n",
      "Loss: 0.5817 --- [ 3200] out of 60000\n",
      "Loss: 0.4572 --- [ 6400] out of 60000\n",
      "Loss: 0.6578 --- [ 9600] out of 60000\n",
      "Loss: 0.3542 --- [12800] out of 60000\n",
      "Loss: 0.5658 --- [16000] out of 60000\n",
      "Loss: 0.3030 --- [19200] out of 60000\n",
      "Loss: 0.5520 --- [22400] out of 60000\n",
      "Loss: 0.5018 --- [25600] out of 60000\n",
      "Loss: 0.3063 --- [28800] out of 60000\n",
      "Loss: 0.2086 --- [32000] out of 60000\n",
      "Loss: 0.6208 --- [35200] out of 60000\n",
      "Loss: 0.5732 --- [38400] out of 60000\n",
      "Loss: 0.3323 --- [41600] out of 60000\n",
      "Loss: 0.4402 --- [44800] out of 60000\n",
      "Loss: 0.3812 --- [48000] out of 60000\n",
      "Loss: 0.4404 --- [51200] out of 60000\n",
      "Loss: 0.8866 --- [54400] out of 60000\n",
      "Loss: 0.5070 --- [57600] out of 60000\n",
      "\n",
      "Results: Accuracy: 81.0%, Average Loss: 0.017088 \n",
      "\n",
      "[Epoch 2]\n",
      "\n",
      "Loss: 1.0893 --- [    0] out of 60000\n",
      "Loss: 0.3765 --- [ 3200] out of 60000\n",
      "Loss: 0.3021 --- [ 6400] out of 60000\n",
      "Loss: 0.6839 --- [ 9600] out of 60000\n",
      "Loss: 0.3724 --- [12800] out of 60000\n",
      "Loss: 0.5136 --- [16000] out of 60000\n",
      "Loss: 0.7000 --- [19200] out of 60000\n",
      "Loss: 0.7257 --- [22400] out of 60000\n",
      "Loss: 0.2905 --- [25600] out of 60000\n",
      "Loss: 0.4909 --- [28800] out of 60000\n",
      "Loss: 0.6163 --- [32000] out of 60000\n",
      "Loss: 0.5282 --- [35200] out of 60000\n",
      "Loss: 0.3690 --- [38400] out of 60000\n",
      "Loss: 0.2963 --- [41600] out of 60000\n",
      "Loss: 0.5205 --- [44800] out of 60000\n",
      "Loss: 0.6409 --- [48000] out of 60000\n",
      "Loss: 0.4904 --- [51200] out of 60000\n",
      "Loss: 0.4804 --- [54400] out of 60000\n",
      "Loss: 0.2897 --- [57600] out of 60000\n",
      "\n",
      "Results: Accuracy: 81.0%, Average Loss: 0.016868 \n",
      "\n",
      "[Epoch 3]\n",
      "\n",
      "Loss: 0.8148 --- [    0] out of 60000\n",
      "Loss: 0.4595 --- [ 3200] out of 60000\n",
      "Loss: 0.3783 --- [ 6400] out of 60000\n",
      "Loss: 0.4631 --- [ 9600] out of 60000\n",
      "Loss: 0.6936 --- [12800] out of 60000\n",
      "Loss: 0.4747 --- [16000] out of 60000\n",
      "Loss: 0.4306 --- [19200] out of 60000\n",
      "Loss: 0.4724 --- [22400] out of 60000\n",
      "Loss: 0.6182 --- [25600] out of 60000\n",
      "Loss: 0.4265 --- [28800] out of 60000\n",
      "Loss: 0.7847 --- [32000] out of 60000\n",
      "Loss: 0.4586 --- [35200] out of 60000\n",
      "Loss: 0.6442 --- [38400] out of 60000\n",
      "Loss: 0.3298 --- [41600] out of 60000\n",
      "Loss: 0.5427 --- [44800] out of 60000\n",
      "Loss: 0.3742 --- [48000] out of 60000\n",
      "Loss: 0.4741 --- [51200] out of 60000\n",
      "Loss: 0.3312 --- [54400] out of 60000\n",
      "Loss: 0.4941 --- [57600] out of 60000\n",
      "\n",
      "Results: Accuracy: 81.5%, Average Loss: 0.016723 \n",
      "\n",
      "[Epoch 4]\n",
      "\n",
      "Loss: 0.6073 --- [    0] out of 60000\n",
      "Loss: 0.4759 --- [ 3200] out of 60000\n",
      "Loss: 0.3379 --- [ 6400] out of 60000\n",
      "Loss: 0.2353 --- [ 9600] out of 60000\n",
      "Loss: 0.4336 --- [12800] out of 60000\n",
      "Loss: 0.5919 --- [16000] out of 60000\n",
      "Loss: 0.3150 --- [19200] out of 60000\n",
      "Loss: 0.4687 --- [22400] out of 60000\n",
      "Loss: 0.4653 --- [25600] out of 60000\n",
      "Loss: 0.7521 --- [28800] out of 60000\n",
      "Loss: 0.4194 --- [32000] out of 60000\n",
      "Loss: 0.5380 --- [35200] out of 60000\n",
      "Loss: 0.4592 --- [38400] out of 60000\n",
      "Loss: 0.4257 --- [41600] out of 60000\n",
      "Loss: 0.5380 --- [44800] out of 60000\n",
      "Loss: 0.4503 --- [48000] out of 60000\n",
      "Loss: 0.5159 --- [51200] out of 60000\n",
      "Loss: 0.3433 --- [54400] out of 60000\n",
      "Loss: 0.9101 --- [57600] out of 60000\n",
      "\n",
      "Results: Accuracy: 81.3%, Average Loss: 0.016600 \n",
      "\n",
      "[Epoch 5]\n",
      "\n",
      "Loss: 0.7243 --- [    0] out of 60000\n",
      "Loss: 0.6281 --- [ 3200] out of 60000\n",
      "Loss: 0.3129 --- [ 6400] out of 60000\n",
      "Loss: 0.4355 --- [ 9600] out of 60000\n",
      "Loss: 0.7014 --- [12800] out of 60000\n",
      "Loss: 0.4475 --- [16000] out of 60000\n",
      "Loss: 0.6461 --- [19200] out of 60000\n",
      "Loss: 0.4435 --- [22400] out of 60000\n",
      "Loss: 0.5685 --- [25600] out of 60000\n",
      "Loss: 0.9511 --- [28800] out of 60000\n",
      "Loss: 0.7186 --- [32000] out of 60000\n",
      "Loss: 0.6995 --- [35200] out of 60000\n",
      "Loss: 0.6804 --- [38400] out of 60000\n",
      "Loss: 0.3824 --- [41600] out of 60000\n",
      "Loss: 0.5527 --- [44800] out of 60000\n",
      "Loss: 0.3247 --- [48000] out of 60000\n",
      "Loss: 0.4046 --- [51200] out of 60000\n",
      "Loss: 0.3530 --- [54400] out of 60000\n",
      "Loss: 0.4971 --- [57600] out of 60000\n",
      "\n",
      "Results: Accuracy: 81.5%, Average Loss: 0.016377 \n",
      "\n",
      "[Epoch 6]\n",
      "\n",
      "Loss: 0.4025 --- [    0] out of 60000\n",
      "Loss: 0.4339 --- [ 3200] out of 60000\n",
      "Loss: 0.6825 --- [ 6400] out of 60000\n",
      "Loss: 0.5412 --- [ 9600] out of 60000\n",
      "Loss: 0.3908 --- [12800] out of 60000\n",
      "Loss: 0.7546 --- [16000] out of 60000\n",
      "Loss: 0.2785 --- [19200] out of 60000\n",
      "Loss: 0.5492 --- [22400] out of 60000\n",
      "Loss: 0.4681 --- [25600] out of 60000\n",
      "Loss: 0.5421 --- [28800] out of 60000\n",
      "Loss: 0.5908 --- [32000] out of 60000\n",
      "Loss: 0.2249 --- [35200] out of 60000\n",
      "Loss: 0.6690 --- [38400] out of 60000\n",
      "Loss: 0.3328 --- [41600] out of 60000\n",
      "Loss: 0.4345 --- [44800] out of 60000\n",
      "Loss: 0.4228 --- [48000] out of 60000\n",
      "Loss: 0.3724 --- [51200] out of 60000\n",
      "Loss: 0.5921 --- [54400] out of 60000\n",
      "Loss: 0.4372 --- [57600] out of 60000\n",
      "\n",
      "Results: Accuracy: 81.6%, Average Loss: 0.016366 \n",
      "\n",
      "[Epoch 7]\n",
      "\n",
      "Loss: 0.4454 --- [    0] out of 60000\n",
      "Loss: 0.4393 --- [ 3200] out of 60000\n",
      "Loss: 0.4771 --- [ 6400] out of 60000\n",
      "Loss: 0.8075 --- [ 9600] out of 60000\n",
      "Loss: 0.3814 --- [12800] out of 60000\n",
      "Loss: 0.4717 --- [16000] out of 60000\n",
      "Loss: 0.7527 --- [19200] out of 60000\n",
      "Loss: 0.3824 --- [22400] out of 60000\n",
      "Loss: 0.5179 --- [25600] out of 60000\n",
      "Loss: 0.6926 --- [28800] out of 60000\n",
      "Loss: 0.6575 --- [32000] out of 60000\n",
      "Loss: 0.9731 --- [35200] out of 60000\n",
      "Loss: 0.4042 --- [38400] out of 60000\n",
      "Loss: 0.3806 --- [41600] out of 60000\n",
      "Loss: 0.3925 --- [44800] out of 60000\n",
      "Loss: 0.4146 --- [48000] out of 60000\n",
      "Loss: 0.3951 --- [51200] out of 60000\n",
      "Loss: 0.4382 --- [54400] out of 60000\n",
      "Loss: 0.5129 --- [57600] out of 60000\n",
      "\n",
      "Results: Accuracy: 81.8%, Average Loss: 0.016135 \n",
      "\n",
      "[Epoch 8]\n",
      "\n",
      "Loss: 0.6908 --- [    0] out of 60000\n",
      "Loss: 0.4759 --- [ 3200] out of 60000\n",
      "Loss: 0.2493 --- [ 6400] out of 60000\n",
      "Loss: 0.3387 --- [ 9600] out of 60000\n",
      "Loss: 0.3845 --- [12800] out of 60000\n",
      "Loss: 0.5619 --- [16000] out of 60000\n",
      "Loss: 0.5893 --- [19200] out of 60000\n",
      "Loss: 0.3990 --- [22400] out of 60000\n",
      "Loss: 0.5341 --- [25600] out of 60000\n",
      "Loss: 0.4307 --- [28800] out of 60000\n",
      "Loss: 0.4712 --- [32000] out of 60000\n",
      "Loss: 0.3515 --- [35200] out of 60000\n",
      "Loss: 0.5513 --- [38400] out of 60000\n",
      "Loss: 0.3300 --- [41600] out of 60000\n",
      "Loss: 0.5550 --- [44800] out of 60000\n",
      "Loss: 0.3997 --- [48000] out of 60000\n",
      "Loss: 0.6960 --- [51200] out of 60000\n",
      "Loss: 0.7345 --- [54400] out of 60000\n",
      "Loss: 0.4386 --- [57600] out of 60000\n",
      "\n",
      "Results: Accuracy: 81.9%, Average Loss: 0.016016 \n",
      "\n",
      "[Epoch 9]\n",
      "\n",
      "Loss: 0.4417 --- [    0] out of 60000\n",
      "Loss: 0.6222 --- [ 3200] out of 60000\n",
      "Loss: 0.3636 --- [ 6400] out of 60000\n",
      "Loss: 0.4355 --- [ 9600] out of 60000\n",
      "Loss: 0.5135 --- [12800] out of 60000\n",
      "Loss: 0.6256 --- [16000] out of 60000\n",
      "Loss: 0.3315 --- [19200] out of 60000\n",
      "Loss: 0.5165 --- [22400] out of 60000\n",
      "Loss: 0.4620 --- [25600] out of 60000\n",
      "Loss: 0.3554 --- [28800] out of 60000\n",
      "Loss: 0.6491 --- [32000] out of 60000\n",
      "Loss: 0.5483 --- [35200] out of 60000\n",
      "Loss: 0.2503 --- [38400] out of 60000\n",
      "Loss: 0.4784 --- [41600] out of 60000\n",
      "Loss: 0.6919 --- [44800] out of 60000\n",
      "Loss: 0.3447 --- [48000] out of 60000\n",
      "Loss: 0.4420 --- [51200] out of 60000\n",
      "Loss: 0.3219 --- [54400] out of 60000\n",
      "Loss: 0.4361 --- [57600] out of 60000\n",
      "\n",
      "Results: Accuracy: 81.7%, Average Loss: 0.015941 \n",
      "\n",
      "[Epoch 10]\n",
      "\n",
      "Loss: 0.4575 --- [    0] out of 60000\n",
      "Loss: 0.2373 --- [ 3200] out of 60000\n",
      "Loss: 0.4976 --- [ 6400] out of 60000\n",
      "Loss: 0.2944 --- [ 9600] out of 60000\n",
      "Loss: 0.5019 --- [12800] out of 60000\n",
      "Loss: 0.2984 --- [16000] out of 60000\n",
      "Loss: 0.4253 --- [19200] out of 60000\n",
      "Loss: 0.5359 --- [22400] out of 60000\n",
      "Loss: 0.4036 --- [25600] out of 60000\n",
      "Loss: 0.7451 --- [28800] out of 60000\n",
      "Loss: 0.8725 --- [32000] out of 60000\n",
      "Loss: 0.5508 --- [35200] out of 60000\n",
      "Loss: 0.4279 --- [38400] out of 60000\n",
      "Loss: 0.4267 --- [41600] out of 60000\n",
      "Loss: 0.4431 --- [44800] out of 60000\n",
      "Loss: 0.4167 --- [48000] out of 60000\n",
      "Loss: 0.4713 --- [51200] out of 60000\n",
      "Loss: 0.6230 --- [54400] out of 60000\n",
      "Loss: 0.2444 --- [57600] out of 60000\n",
      "\n",
      "Results: Accuracy: 81.8%, Average Loss: 0.015950 \n",
      "\n",
      "[Epoch 11]\n",
      "\n",
      "Loss: 0.4393 --- [    0] out of 60000\n",
      "Loss: 0.4213 --- [ 3200] out of 60000\n",
      "Loss: 0.4923 --- [ 6400] out of 60000\n",
      "Loss: 0.4048 --- [ 9600] out of 60000\n",
      "Loss: 0.3895 --- [12800] out of 60000\n",
      "Loss: 0.2363 --- [16000] out of 60000\n",
      "Loss: 0.2906 --- [19200] out of 60000\n",
      "Loss: 0.3515 --- [22400] out of 60000\n",
      "Loss: 0.4884 --- [25600] out of 60000\n",
      "Loss: 0.5529 --- [28800] out of 60000\n",
      "Loss: 0.5035 --- [32000] out of 60000\n",
      "Loss: 0.3683 --- [35200] out of 60000\n",
      "Loss: 0.3059 --- [38400] out of 60000\n",
      "Loss: 0.4044 --- [41600] out of 60000\n",
      "Loss: 0.2320 --- [44800] out of 60000\n",
      "Loss: 0.4430 --- [48000] out of 60000\n",
      "Loss: 0.2786 --- [51200] out of 60000\n",
      "Loss: 0.3769 --- [54400] out of 60000\n",
      "Loss: 0.3342 --- [57600] out of 60000\n",
      "\n",
      "Results: Accuracy: 82.2%, Average Loss: 0.015760 \n",
      "\n",
      "[Epoch 12]\n",
      "\n",
      "Loss: 0.3928 --- [    0] out of 60000\n",
      "Loss: 0.5910 --- [ 3200] out of 60000\n",
      "Loss: 0.5428 --- [ 6400] out of 60000\n",
      "Loss: 0.5799 --- [ 9600] out of 60000\n",
      "Loss: 0.2702 --- [12800] out of 60000\n",
      "Loss: 0.6915 --- [16000] out of 60000\n",
      "Loss: 0.5274 --- [19200] out of 60000\n",
      "Loss: 0.5604 --- [22400] out of 60000\n",
      "Loss: 0.3121 --- [25600] out of 60000\n",
      "Loss: 0.4628 --- [28800] out of 60000\n",
      "Loss: 0.6634 --- [32000] out of 60000\n",
      "Loss: 0.4471 --- [35200] out of 60000\n",
      "Loss: 0.4398 --- [38400] out of 60000\n",
      "Loss: 0.1843 --- [41600] out of 60000\n",
      "Loss: 0.9610 --- [44800] out of 60000\n",
      "Loss: 0.4277 --- [48000] out of 60000\n",
      "Loss: 0.4927 --- [51200] out of 60000\n",
      "Loss: 0.5226 --- [54400] out of 60000\n",
      "Loss: 0.6661 --- [57600] out of 60000\n",
      "\n",
      "Results: Accuracy: 82.1%, Average Loss: 0.015628 \n",
      "\n",
      "[Epoch 13]\n",
      "\n",
      "Loss: 0.5006 --- [    0] out of 60000\n",
      "Loss: 0.3137 --- [ 3200] out of 60000\n",
      "Loss: 0.6100 --- [ 6400] out of 60000\n",
      "Loss: 0.2864 --- [ 9600] out of 60000\n",
      "Loss: 0.2823 --- [12800] out of 60000\n",
      "Loss: 0.4817 --- [16000] out of 60000\n",
      "Loss: 0.4532 --- [19200] out of 60000\n",
      "Loss: 0.6254 --- [22400] out of 60000\n",
      "Loss: 0.3154 --- [25600] out of 60000\n",
      "Loss: 0.4758 --- [28800] out of 60000\n",
      "Loss: 0.5849 --- [32000] out of 60000\n",
      "Loss: 0.6938 --- [35200] out of 60000\n",
      "Loss: 0.4267 --- [38400] out of 60000\n",
      "Loss: 0.6482 --- [41600] out of 60000\n",
      "Loss: 0.1673 --- [44800] out of 60000\n",
      "Loss: 0.6276 --- [48000] out of 60000\n",
      "Loss: 0.4874 --- [51200] out of 60000\n",
      "Loss: 0.4908 --- [54400] out of 60000\n",
      "Loss: 0.5420 --- [57600] out of 60000\n",
      "\n",
      "Results: Accuracy: 82.5%, Average Loss: 0.015558 \n",
      "\n",
      "[Epoch 14]\n",
      "\n",
      "Loss: 0.6215 --- [    0] out of 60000\n",
      "Loss: 0.2890 --- [ 3200] out of 60000\n",
      "Loss: 0.5705 --- [ 6400] out of 60000\n",
      "Loss: 0.4776 --- [ 9600] out of 60000\n",
      "Loss: 0.4285 --- [12800] out of 60000\n",
      "Loss: 0.4515 --- [16000] out of 60000\n",
      "Loss: 0.3889 --- [19200] out of 60000\n",
      "Loss: 0.5577 --- [22400] out of 60000\n",
      "Loss: 0.4747 --- [25600] out of 60000\n",
      "Loss: 0.1963 --- [28800] out of 60000\n",
      "Loss: 0.4618 --- [32000] out of 60000\n",
      "Loss: 0.3905 --- [35200] out of 60000\n",
      "Loss: 0.3724 --- [38400] out of 60000\n",
      "Loss: 0.6389 --- [41600] out of 60000\n",
      "Loss: 0.4594 --- [44800] out of 60000\n",
      "Loss: 0.4405 --- [48000] out of 60000\n",
      "Loss: 0.6762 --- [51200] out of 60000\n",
      "Loss: 0.2756 --- [54400] out of 60000\n",
      "Loss: 0.3140 --- [57600] out of 60000\n",
      "\n",
      "Results: Accuracy: 82.4%, Average Loss: 0.015550 \n",
      "\n",
      "[Epoch 15]\n",
      "\n",
      "Loss: 0.3680 --- [    0] out of 60000\n",
      "Loss: 0.6480 --- [ 3200] out of 60000\n",
      "Loss: 0.5180 --- [ 6400] out of 60000\n",
      "Loss: 0.5816 --- [ 9600] out of 60000\n",
      "Loss: 0.3314 --- [12800] out of 60000\n",
      "Loss: 0.5505 --- [16000] out of 60000\n",
      "Loss: 0.3968 --- [19200] out of 60000\n",
      "Loss: 0.3765 --- [22400] out of 60000\n",
      "Loss: 0.3720 --- [25600] out of 60000\n",
      "Loss: 0.3727 --- [28800] out of 60000\n",
      "Loss: 0.4661 --- [32000] out of 60000\n",
      "Loss: 0.3671 --- [35200] out of 60000\n",
      "Loss: 0.3643 --- [38400] out of 60000\n",
      "Loss: 0.5002 --- [41600] out of 60000\n",
      "Loss: 0.5515 --- [44800] out of 60000\n",
      "Loss: 0.7324 --- [48000] out of 60000\n",
      "Loss: 0.4444 --- [51200] out of 60000\n",
      "Loss: 0.3019 --- [54400] out of 60000\n",
      "Loss: 0.5254 --- [57600] out of 60000\n",
      "\n",
      "Results: Accuracy: 82.6%, Average Loss: 0.015385 \n",
      "\n",
      "[Epoch 16]\n",
      "\n",
      "Loss: 0.3034 --- [    0] out of 60000\n",
      "Loss: 0.3877 --- [ 3200] out of 60000\n",
      "Loss: 0.2485 --- [ 6400] out of 60000\n",
      "Loss: 0.5429 --- [ 9600] out of 60000\n",
      "Loss: 0.3079 --- [12800] out of 60000\n",
      "Loss: 0.2215 --- [16000] out of 60000\n",
      "Loss: 0.3906 --- [19200] out of 60000\n",
      "Loss: 0.3883 --- [22400] out of 60000\n",
      "Loss: 0.4725 --- [25600] out of 60000\n",
      "Loss: 0.3189 --- [28800] out of 60000\n",
      "Loss: 0.2596 --- [32000] out of 60000\n",
      "Loss: 0.4117 --- [35200] out of 60000\n",
      "Loss: 0.2922 --- [38400] out of 60000\n",
      "Loss: 0.6021 --- [41600] out of 60000\n",
      "Loss: 0.4032 --- [44800] out of 60000\n",
      "Loss: 0.4081 --- [48000] out of 60000\n",
      "Loss: 0.4954 --- [51200] out of 60000\n",
      "Loss: 0.5746 --- [54400] out of 60000\n",
      "Loss: 0.6337 --- [57600] out of 60000\n",
      "\n",
      "Results: Accuracy: 82.6%, Average Loss: 0.015349 \n",
      "\n",
      "[Epoch 17]\n",
      "\n",
      "Loss: 0.2389 --- [    0] out of 60000\n",
      "Loss: 0.5349 --- [ 3200] out of 60000\n",
      "Loss: 0.4621 --- [ 6400] out of 60000\n",
      "Loss: 0.4944 --- [ 9600] out of 60000\n",
      "Loss: 0.5651 --- [12800] out of 60000\n",
      "Loss: 0.5351 --- [16000] out of 60000\n",
      "Loss: 0.5082 --- [19200] out of 60000\n",
      "Loss: 0.3180 --- [22400] out of 60000\n",
      "Loss: 0.3732 --- [25600] out of 60000\n",
      "Loss: 0.4764 --- [28800] out of 60000\n",
      "Loss: 0.7650 --- [32000] out of 60000\n",
      "Loss: 0.5194 --- [35200] out of 60000\n",
      "Loss: 0.2621 --- [38400] out of 60000\n",
      "Loss: 0.6519 --- [41600] out of 60000\n",
      "Loss: 0.4473 --- [44800] out of 60000\n",
      "Loss: 0.4276 --- [48000] out of 60000\n",
      "Loss: 0.3313 --- [51200] out of 60000\n",
      "Loss: 0.4016 --- [54400] out of 60000\n",
      "Loss: 0.5644 --- [57600] out of 60000\n",
      "\n",
      "Results: Accuracy: 82.9%, Average Loss: 0.015239 \n",
      "\n",
      "[Epoch 18]\n",
      "\n",
      "Loss: 0.6153 --- [    0] out of 60000\n",
      "Loss: 0.5762 --- [ 3200] out of 60000\n",
      "Loss: 0.4313 --- [ 6400] out of 60000\n",
      "Loss: 0.4205 --- [ 9600] out of 60000\n",
      "Loss: 0.5632 --- [12800] out of 60000\n",
      "Loss: 0.3092 --- [16000] out of 60000\n",
      "Loss: 0.3567 --- [19200] out of 60000\n",
      "Loss: 0.4855 --- [22400] out of 60000\n",
      "Loss: 0.4111 --- [25600] out of 60000\n",
      "Loss: 0.3308 --- [28800] out of 60000\n",
      "Loss: 0.3803 --- [32000] out of 60000\n",
      "Loss: 0.5089 --- [35200] out of 60000\n",
      "Loss: 0.4159 --- [38400] out of 60000\n",
      "Loss: 0.2749 --- [41600] out of 60000\n",
      "Loss: 0.3434 --- [44800] out of 60000\n",
      "Loss: 0.3579 --- [48000] out of 60000\n",
      "Loss: 0.5764 --- [51200] out of 60000\n",
      "Loss: 0.4686 --- [54400] out of 60000\n",
      "Loss: 0.2842 --- [57600] out of 60000\n",
      "\n",
      "Results: Accuracy: 82.9%, Average Loss: 0.015179 \n",
      "\n",
      "[Epoch 19]\n",
      "\n",
      "Loss: 0.5256 --- [    0] out of 60000\n",
      "Loss: 0.4378 --- [ 3200] out of 60000\n",
      "Loss: 0.4353 --- [ 6400] out of 60000\n",
      "Loss: 0.5302 --- [ 9600] out of 60000\n",
      "Loss: 0.2982 --- [12800] out of 60000\n",
      "Loss: 0.2593 --- [16000] out of 60000\n",
      "Loss: 0.2699 --- [19200] out of 60000\n",
      "Loss: 0.6084 --- [22400] out of 60000\n",
      "Loss: 0.3991 --- [25600] out of 60000\n",
      "Loss: 0.3560 --- [28800] out of 60000\n",
      "Loss: 0.5691 --- [32000] out of 60000\n",
      "Loss: 0.5597 --- [35200] out of 60000\n",
      "Loss: 0.2866 --- [38400] out of 60000\n",
      "Loss: 0.4009 --- [41600] out of 60000\n",
      "Loss: 0.6297 --- [44800] out of 60000\n",
      "Loss: 0.3297 --- [48000] out of 60000\n",
      "Loss: 0.3002 --- [51200] out of 60000\n",
      "Loss: 0.5151 --- [54400] out of 60000\n",
      "Loss: 0.4942 --- [57600] out of 60000\n",
      "\n",
      "Results: Accuracy: 82.8%, Average Loss: 0.015196 \n",
      "\n",
      "[Epoch 20]\n",
      "\n",
      "Loss: 0.2593 --- [    0] out of 60000\n",
      "Loss: 0.4119 --- [ 3200] out of 60000\n",
      "Loss: 0.3869 --- [ 6400] out of 60000\n",
      "Loss: 0.4327 --- [ 9600] out of 60000\n",
      "Loss: 0.4311 --- [12800] out of 60000\n",
      "Loss: 0.5795 --- [16000] out of 60000\n",
      "Loss: 0.3761 --- [19200] out of 60000\n",
      "Loss: 0.7269 --- [22400] out of 60000\n",
      "Loss: 0.4134 --- [25600] out of 60000\n",
      "Loss: 0.0878 --- [28800] out of 60000\n",
      "Loss: 0.4149 --- [32000] out of 60000\n",
      "Loss: 0.4660 --- [35200] out of 60000\n",
      "Loss: 0.9360 --- [38400] out of 60000\n",
      "Loss: 0.2699 --- [41600] out of 60000\n",
      "Loss: 0.5865 --- [44800] out of 60000\n",
      "Loss: 0.3677 --- [48000] out of 60000\n",
      "Loss: 0.4855 --- [51200] out of 60000\n",
      "Loss: 0.6629 --- [54400] out of 60000\n",
      "Loss: 0.4419 --- [57600] out of 60000\n",
      "\n",
      "Results: Accuracy: 83.0%, Average Loss: 0.015100 \n",
      "\n",
      "[Epoch 21]\n",
      "\n",
      "Loss: 0.4354 --- [    0] out of 60000\n",
      "Loss: 0.5039 --- [ 3200] out of 60000\n",
      "Loss: 0.3617 --- [ 6400] out of 60000\n",
      "Loss: 0.4892 --- [ 9600] out of 60000\n",
      "Loss: 0.4930 --- [12800] out of 60000\n",
      "Loss: 0.5267 --- [16000] out of 60000\n",
      "Loss: 0.2688 --- [19200] out of 60000\n",
      "Loss: 0.4300 --- [22400] out of 60000\n",
      "Loss: 0.2371 --- [25600] out of 60000\n",
      "Loss: 0.3149 --- [28800] out of 60000\n",
      "Loss: 0.4304 --- [32000] out of 60000\n",
      "Loss: 0.4612 --- [35200] out of 60000\n",
      "Loss: 0.4798 --- [38400] out of 60000\n",
      "Loss: 0.2659 --- [41600] out of 60000\n",
      "Loss: 0.3328 --- [44800] out of 60000\n",
      "Loss: 0.3494 --- [48000] out of 60000\n",
      "Loss: 0.3769 --- [51200] out of 60000\n",
      "Loss: 0.3082 --- [54400] out of 60000\n",
      "Loss: 0.5080 --- [57600] out of 60000\n",
      "\n",
      "Results: Accuracy: 83.0%, Average Loss: 0.015039 \n",
      "\n",
      "[Epoch 22]\n",
      "\n",
      "Loss: 0.3439 --- [    0] out of 60000\n",
      "Loss: 0.3227 --- [ 3200] out of 60000\n",
      "Loss: 0.5587 --- [ 6400] out of 60000\n",
      "Loss: 0.5167 --- [ 9600] out of 60000\n",
      "Loss: 0.4066 --- [12800] out of 60000\n",
      "Loss: 0.5619 --- [16000] out of 60000\n",
      "Loss: 0.5016 --- [19200] out of 60000\n",
      "Loss: 0.5405 --- [22400] out of 60000\n",
      "Loss: 0.3860 --- [25600] out of 60000\n",
      "Loss: 0.3353 --- [28800] out of 60000\n",
      "Loss: 0.4600 --- [32000] out of 60000\n",
      "Loss: 0.6884 --- [35200] out of 60000\n",
      "Loss: 0.5354 --- [38400] out of 60000\n",
      "Loss: 0.2966 --- [41600] out of 60000\n",
      "Loss: 0.5085 --- [44800] out of 60000\n",
      "Loss: 0.5386 --- [48000] out of 60000\n",
      "Loss: 0.4348 --- [51200] out of 60000\n",
      "Loss: 0.4956 --- [54400] out of 60000\n",
      "Loss: 0.3821 --- [57600] out of 60000\n",
      "\n",
      "Results: Accuracy: 83.0%, Average Loss: 0.015035 \n",
      "\n",
      "[Epoch 23]\n",
      "\n",
      "Loss: 0.2290 --- [    0] out of 60000\n",
      "Loss: 0.5344 --- [ 3200] out of 60000\n",
      "Loss: 0.3534 --- [ 6400] out of 60000\n",
      "Loss: 0.2630 --- [ 9600] out of 60000\n",
      "Loss: 0.2725 --- [12800] out of 60000\n",
      "Loss: 0.5664 --- [16000] out of 60000\n",
      "Loss: 0.3952 --- [19200] out of 60000\n",
      "Loss: 0.5168 --- [22400] out of 60000\n",
      "Loss: 0.4264 --- [25600] out of 60000\n",
      "Loss: 0.6006 --- [28800] out of 60000\n",
      "Loss: 0.6241 --- [32000] out of 60000\n",
      "Loss: 0.3634 --- [35200] out of 60000\n",
      "Loss: 0.2070 --- [38400] out of 60000\n",
      "Loss: 0.4487 --- [41600] out of 60000\n",
      "Loss: 0.5037 --- [44800] out of 60000\n",
      "Loss: 0.5412 --- [48000] out of 60000\n",
      "Loss: 0.5312 --- [51200] out of 60000\n",
      "Loss: 0.8289 --- [54400] out of 60000\n",
      "Loss: 0.4277 --- [57600] out of 60000\n",
      "\n",
      "Results: Accuracy: 83.2%, Average Loss: 0.014892 \n",
      "\n",
      "[Epoch 24]\n",
      "\n",
      "Loss: 0.7262 --- [    0] out of 60000\n",
      "Loss: 0.5808 --- [ 3200] out of 60000\n",
      "Loss: 0.3303 --- [ 6400] out of 60000\n",
      "Loss: 0.3628 --- [ 9600] out of 60000\n",
      "Loss: 0.4668 --- [12800] out of 60000\n",
      "Loss: 0.5847 --- [16000] out of 60000\n",
      "Loss: 0.4724 --- [19200] out of 60000\n",
      "Loss: 0.3031 --- [22400] out of 60000\n",
      "Loss: 0.3268 --- [25600] out of 60000\n",
      "Loss: 0.3347 --- [28800] out of 60000\n",
      "Loss: 0.4887 --- [32000] out of 60000\n",
      "Loss: 0.3049 --- [35200] out of 60000\n",
      "Loss: 0.4446 --- [38400] out of 60000\n",
      "Loss: 0.4616 --- [41600] out of 60000\n",
      "Loss: 0.6873 --- [44800] out of 60000\n",
      "Loss: 0.1901 --- [48000] out of 60000\n",
      "Loss: 0.1904 --- [51200] out of 60000\n",
      "Loss: 0.5205 --- [54400] out of 60000\n",
      "Loss: 0.5232 --- [57600] out of 60000\n",
      "\n",
      "Results: Accuracy: 83.2%, Average Loss: 0.014874 \n",
      "\n",
      "[Epoch 25]\n",
      "\n",
      "Loss: 0.2879 --- [    0] out of 60000\n",
      "Loss: 0.2414 --- [ 3200] out of 60000\n",
      "Loss: 0.8029 --- [ 6400] out of 60000\n",
      "Loss: 0.4867 --- [ 9600] out of 60000\n",
      "Loss: 0.5957 --- [12800] out of 60000\n",
      "Loss: 0.3319 --- [16000] out of 60000\n",
      "Loss: 0.4504 --- [19200] out of 60000\n",
      "Loss: 0.4063 --- [22400] out of 60000\n",
      "Loss: 0.9495 --- [25600] out of 60000\n",
      "Loss: 0.4388 --- [28800] out of 60000\n",
      "Loss: 0.4354 --- [32000] out of 60000\n",
      "Loss: 0.1935 --- [35200] out of 60000\n",
      "Loss: 0.8377 --- [38400] out of 60000\n",
      "Loss: 0.2349 --- [41600] out of 60000\n",
      "Loss: 0.3777 --- [44800] out of 60000\n",
      "Loss: 0.3978 --- [48000] out of 60000\n",
      "Loss: 0.3972 --- [51200] out of 60000\n",
      "Loss: 0.6691 --- [54400] out of 60000\n",
      "Loss: 0.2853 --- [57600] out of 60000\n",
      "\n",
      "Results: Accuracy: 83.3%, Average Loss: 0.014896 \n",
      "\n",
      "Completed!\n"
     ]
    }
   ],
   "source": [
    "for epoch in range(n_epochs):\n",
    "    print(f\"[Epoch {epoch+1}]\\n\")\n",
    "    train(training_dataloader, model2, loss_fn, optimizer)\n",
    "    test(test_dataloader, model2, loss_fn)\n",
    "print('Completed!')"
   ]
  },
  {
   "cell_type": "markdown",
   "metadata": {},
   "source": [
    "# **Model Saving and Loading**"
   ]
  },
  {
   "cell_type": "markdown",
   "metadata": {},
   "source": [
    "version 1: using state dict : just saving the weights"
   ]
  },
  {
   "cell_type": "code",
   "execution_count": 93,
   "metadata": {},
   "outputs": [],
   "source": [
    "torch.save(model2.state_dict(), \"model_weights.pth\")"
   ]
  },
  {
   "cell_type": "code",
   "execution_count": 94,
   "metadata": {},
   "outputs": [
    {
     "data": {
      "text/plain": [
       "<All keys matched successfully>"
      ]
     },
     "execution_count": 94,
     "metadata": {},
     "output_type": "execute_result"
    }
   ],
   "source": [
    "mode2_1 = SimpleNNVersionTwo()\n",
    "mode2_1.load_state_dict(torch.load('model_weights.pth'))"
   ]
  },
  {
   "cell_type": "markdown",
   "metadata": {},
   "source": [
    "## Saving and Loading Models with Shapes"
   ]
  },
  {
   "cell_type": "code",
   "execution_count": 95,
   "metadata": {},
   "outputs": [],
   "source": [
    "torch.save(model2, 'model_shapes.pth')\n",
    "\n",
    "mode2_2 = torch.load('model_shapes.pth')"
   ]
  },
  {
   "cell_type": "markdown",
   "metadata": {},
   "source": [
    "# **Making Predictions**\n"
   ]
  },
  {
   "cell_type": "code",
   "execution_count": 96,
   "metadata": {},
   "outputs": [],
   "source": [
    "classes = [\n",
    "    \"T-shirt/top\",\n",
    "    \"Trouser\",\n",
    "    \"Pullover\",\n",
    "    \"Dress\",\n",
    "    \"Coat\",\n",
    "    \"Sandal\",\n",
    "    \"Shirt\",\n",
    "    \"Sneaker\",\n",
    "    \"Bag\",\n",
    "    \"Ankle boot\",\n",
    "]"
   ]
  },
  {
   "cell_type": "code",
   "execution_count": 97,
   "metadata": {},
   "outputs": [
    {
     "name": "stdout",
     "output_type": "stream",
     "text": [
      "Predicted: \"Trouser\", Actual: \"Trouser\"\n"
     ]
    }
   ],
   "source": [
    "mode2_2.eval()\n",
    "\n",
    "x, y = test_data[2][0], test_data[2][1]\n",
    "\n",
    "with torch.no_grad():\n",
    "    pred = mode2_2(x)\n",
    "    predicted, actual = classes[pred[0].argmax(dim=0)], classes[y]\n",
    "    print(f'Predicted: \"{predicted}\", Actual: \"{actual}\"')"
   ]
  }
 ],
 "metadata": {
  "kernelspec": {
   "display_name": "base",
   "language": "python",
   "name": "python3"
  },
  "language_info": {
   "codemirror_mode": {
    "name": "ipython",
    "version": 3
   },
   "file_extension": ".py",
   "mimetype": "text/x-python",
   "name": "python",
   "nbconvert_exporter": "python",
   "pygments_lexer": "ipython3",
   "version": "3.9.13"
  }
 },
 "nbformat": 4,
 "nbformat_minor": 2
}
